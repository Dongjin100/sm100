{
  "nbformat": 4,
  "nbformat_minor": 0,
  "metadata": {
    "colab": {
      "name": "ch2_08_set.ipynb",
      "provenance": [],
      "include_colab_link": true
    },
    "kernelspec": {
      "name": "python2",
      "display_name": "Python 2"
    }
  },
  "cells": [
    {
      "cell_type": "markdown",
      "metadata": {
        "id": "view-in-github",
        "colab_type": "text"
      },
      "source": [
        "<a href=\"https://colab.research.google.com/github/Dongjin100/sm100/blob/master/week03/ch2_08_set.ipynb\" target=\"_parent\"><img src=\"https://colab.research.google.com/assets/colab-badge.svg\" alt=\"Open In Colab\"/></a>"
      ]
    },
    {
      "cell_type": "markdown",
      "metadata": {
        "id": "1xxXQRshlvWW",
        "colab_type": "text"
      },
      "source": [
        "##Set"
      ]
    },
    {
      "cell_type": "code",
      "metadata": {
        "id": "ktJuInSTlsr2",
        "colab_type": "code",
        "colab": {
          "base_uri": "https://localhost:8080/",
          "height": 53
        },
        "outputId": "7c06b88d-37c4-4aa4-e115-3699773b16cb"
      },
      "source": [
        "print(\"집합: 집합(Set)이란?\")\n",
        "\n",
        "s1 = set([1, 2, 3])\n",
        "s1\n"
      ],
      "execution_count": 5,
      "outputs": [
        {
          "output_type": "stream",
          "text": [
            "집합: 집합(Set)이란?\n"
          ],
          "name": "stdout"
        },
        {
          "output_type": "execute_result",
          "data": {
            "text/plain": [
              "{1, 2, 3}"
            ]
          },
          "metadata": {
            "tags": []
          },
          "execution_count": 5
        }
      ]
    },
    {
      "cell_type": "code",
      "metadata": {
        "id": "0_oLayX1mHab",
        "colab_type": "code",
        "colab": {
          "base_uri": "https://localhost:8080/",
          "height": 35
        },
        "outputId": "3f38603c-2e9b-42ee-c49f-7927fbc60061"
      },
      "source": [
        "s1n = set([1, 2, 3, 2])\n",
        "s1n\n"
      ],
      "execution_count": 8,
      "outputs": [
        {
          "output_type": "execute_result",
          "data": {
            "text/plain": [
              "{1, 2, 3}"
            ]
          },
          "metadata": {
            "tags": []
          },
          "execution_count": 8
        }
      ]
    },
    {
      "cell_type": "code",
      "metadata": {
        "id": "F-nmaTDAmJ5z",
        "colab_type": "code",
        "colab": {
          "base_uri": "https://localhost:8080/",
          "height": 35
        },
        "outputId": "bd30cb7f-b252-4026-bce2-a4dbea5ccf03"
      },
      "source": [
        "s2 = set(\"Hello\")\n",
        "s2"
      ],
      "execution_count": 7,
      "outputs": [
        {
          "output_type": "execute_result",
          "data": {
            "text/plain": [
              "{'H', 'e', 'l', 'o'}"
            ]
          },
          "metadata": {
            "tags": []
          },
          "execution_count": 7
        }
      ]
    },
    {
      "cell_type": "markdown",
      "metadata": {
        "id": "FWlXHLIRmQMc",
        "colab_type": "text"
      },
      "source": [
        "##집합 자료형의 특징\n",
        "1. 중복을 허용하지 않는다.\n",
        "2. 순서가 없다(Unordered).\n",
        "*** set 자료형은 순서가 없기(unordered) 때문에 인덱싱으로 값을 얻을 수 없다.\n"
      ]
    },
    {
      "cell_type": "markdown",
      "metadata": {
        "id": "QKEo9BA6mbrk",
        "colab_type": "text"
      },
      "source": [
        "집합 자료형 오류"
      ]
    },
    {
      "cell_type": "code",
      "metadata": {
        "id": "FSrjBRIDmYS8",
        "colab_type": "code",
        "colab": {}
      },
      "source": [
        "s1 = set([1,2,3])\n",
        "s1[0]"
      ],
      "execution_count": 0,
      "outputs": []
    },
    {
      "cell_type": "markdown",
      "metadata": {
        "id": "oEMu67fLmfKU",
        "colab_type": "text"
      },
      "source": [
        "##정상 자료형"
      ]
    },
    {
      "cell_type": "code",
      "metadata": {
        "id": "QkWlObZameQ8",
        "colab_type": "code",
        "colab": {
          "base_uri": "https://localhost:8080/",
          "height": 35
        },
        "outputId": "1a1ca9f1-e1ce-4bf2-88a1-3679be770c61"
      },
      "source": [
        "l1=list(s1)\n",
        "l1"
      ],
      "execution_count": 9,
      "outputs": [
        {
          "output_type": "execute_result",
          "data": {
            "text/plain": [
              "[1, 2, 3]"
            ]
          },
          "metadata": {
            "tags": []
          },
          "execution_count": 9
        }
      ]
    },
    {
      "cell_type": "code",
      "metadata": {
        "id": "GU6-xpSvmi-8",
        "colab_type": "code",
        "colab": {
          "base_uri": "https://localhost:8080/",
          "height": 35
        },
        "outputId": "3ecb755f-5841-43d3-a612-8017c1c91bd1"
      },
      "source": [
        "l1[0]"
      ],
      "execution_count": 10,
      "outputs": [
        {
          "output_type": "execute_result",
          "data": {
            "text/plain": [
              "1"
            ]
          },
          "metadata": {
            "tags": []
          },
          "execution_count": 10
        }
      ]
    },
    {
      "cell_type": "code",
      "metadata": {
        "id": "BEY23O-qmi1c",
        "colab_type": "code",
        "colab": {
          "base_uri": "https://localhost:8080/",
          "height": 35
        },
        "outputId": "51d2436e-bab3-48a1-8ae2-fecb9f1c12e3"
      },
      "source": [
        "t1=tuple(s1)\n",
        "t1\n"
      ],
      "execution_count": 11,
      "outputs": [
        {
          "output_type": "execute_result",
          "data": {
            "text/plain": [
              "(1, 2, 3)"
            ]
          },
          "metadata": {
            "tags": []
          },
          "execution_count": 11
        }
      ]
    },
    {
      "cell_type": "code",
      "metadata": {
        "id": "6VKx0c-rmnxF",
        "colab_type": "code",
        "colab": {
          "base_uri": "https://localhost:8080/",
          "height": 35
        },
        "outputId": "9ffadf62-2be6-4b21-c904-89d98463300b"
      },
      "source": [
        "t1[0]"
      ],
      "execution_count": 12,
      "outputs": [
        {
          "output_type": "execute_result",
          "data": {
            "text/plain": [
              "1"
            ]
          },
          "metadata": {
            "tags": []
          },
          "execution_count": 12
        }
      ]
    },
    {
      "cell_type": "markdown",
      "metadata": {
        "id": "r0V8KWz1mpf8",
        "colab_type": "text"
      },
      "source": [
        "##교집합 합집합 차집합 구하기"
      ]
    },
    {
      "cell_type": "markdown",
      "metadata": {
        "id": "WkxxfkEDm02L",
        "colab_type": "text"
      },
      "source": [
        "###교집합"
      ]
    },
    {
      "cell_type": "code",
      "metadata": {
        "id": "ESIwrVKsmyls",
        "colab_type": "code",
        "colab": {
          "base_uri": "https://localhost:8080/",
          "height": 35
        },
        "outputId": "d4abe289-b010-479d-d7ce-1003b39abd83"
      },
      "source": [
        "s1 = set([1, 2, 3, 4, 5, 6])\n",
        "s2 = set([4, 5, 6, 7, 8, 9])\n",
        "\n",
        "s1 & s2"
      ],
      "execution_count": 15,
      "outputs": [
        {
          "output_type": "execute_result",
          "data": {
            "text/plain": [
              "{4, 5, 6}"
            ]
          },
          "metadata": {
            "tags": []
          },
          "execution_count": 15
        }
      ]
    },
    {
      "cell_type": "code",
      "metadata": {
        "id": "pR46F-qTm94T",
        "colab_type": "code",
        "colab": {
          "base_uri": "https://localhost:8080/",
          "height": 35
        },
        "outputId": "18b721f6-8e71-4db4-cc76-05c7ab928b72"
      },
      "source": [
        "s1 = set([1, 2, 3, 4, 5, 6])\n",
        "s2 = set([4, 5, 6, 7, 8, 9])\n",
        "\n",
        "s1.intersection(s2)"
      ],
      "execution_count": 16,
      "outputs": [
        {
          "output_type": "execute_result",
          "data": {
            "text/plain": [
              "{4, 5, 6}"
            ]
          },
          "metadata": {
            "tags": []
          },
          "execution_count": 16
        }
      ]
    },
    {
      "cell_type": "markdown",
      "metadata": {
        "id": "6rSVgcKhnBzN",
        "colab_type": "text"
      },
      "source": [
        "##합집합"
      ]
    },
    {
      "cell_type": "code",
      "metadata": {
        "id": "EeDpOtgZnFYT",
        "colab_type": "code",
        "colab": {
          "base_uri": "https://localhost:8080/",
          "height": 35
        },
        "outputId": "0158de9f-75b0-4d95-f14e-b6f0246d49eb"
      },
      "source": [
        "s1 | s2\n",
        "s1.union(s2)"
      ],
      "execution_count": 17,
      "outputs": [
        {
          "output_type": "execute_result",
          "data": {
            "text/plain": [
              "{1, 2, 3, 4, 5, 6, 7, 8, 9}"
            ]
          },
          "metadata": {
            "tags": []
          },
          "execution_count": 17
        }
      ]
    },
    {
      "cell_type": "markdown",
      "metadata": {
        "id": "HpcbrMTdnIVs",
        "colab_type": "text"
      },
      "source": [
        "##차집합"
      ]
    },
    {
      "cell_type": "code",
      "metadata": {
        "id": "4bxou1menJeN",
        "colab_type": "code",
        "colab": {
          "base_uri": "https://localhost:8080/",
          "height": 35
        },
        "outputId": "a88a9af9-19f9-4255-b80d-5680409e2c74"
      },
      "source": [
        "s1 - s2\n"
      ],
      "execution_count": 18,
      "outputs": [
        {
          "output_type": "execute_result",
          "data": {
            "text/plain": [
              "{1, 2, 3}"
            ]
          },
          "metadata": {
            "tags": []
          },
          "execution_count": 18
        }
      ]
    },
    {
      "cell_type": "code",
      "metadata": {
        "id": "pP7BuEtnnLsV",
        "colab_type": "code",
        "colab": {
          "base_uri": "https://localhost:8080/",
          "height": 35
        },
        "outputId": "462d7be5-c771-4124-de22-9981e88b8d51"
      },
      "source": [
        "s2 - s1\n"
      ],
      "execution_count": 19,
      "outputs": [
        {
          "output_type": "execute_result",
          "data": {
            "text/plain": [
              "{7, 8, 9}"
            ]
          },
          "metadata": {
            "tags": []
          },
          "execution_count": 19
        }
      ]
    },
    {
      "cell_type": "code",
      "metadata": {
        "id": "xRL3Um6tnNAj",
        "colab_type": "code",
        "colab": {
          "base_uri": "https://localhost:8080/",
          "height": 35
        },
        "outputId": "41dbd90f-1f53-47ec-e00d-7820a758c2a5"
      },
      "source": [
        "\n",
        "s1.difference(s2)\n"
      ],
      "execution_count": 20,
      "outputs": [
        {
          "output_type": "execute_result",
          "data": {
            "text/plain": [
              "{1, 2, 3}"
            ]
          },
          "metadata": {
            "tags": []
          },
          "execution_count": 20
        }
      ]
    },
    {
      "cell_type": "code",
      "metadata": {
        "id": "Q8w2yyGNnPI8",
        "colab_type": "code",
        "colab": {
          "base_uri": "https://localhost:8080/",
          "height": 35
        },
        "outputId": "7ba35c05-a922-4636-ed47-f2acea029a57"
      },
      "source": [
        "\n",
        "s2.difference(s1)"
      ],
      "execution_count": 21,
      "outputs": [
        {
          "output_type": "execute_result",
          "data": {
            "text/plain": [
              "{7, 8, 9}"
            ]
          },
          "metadata": {
            "tags": []
          },
          "execution_count": 21
        }
      ]
    },
    {
      "cell_type": "markdown",
      "metadata": {
        "id": "CRvztkKEnRWl",
        "colab_type": "text"
      },
      "source": [
        "##집합관련 내장 함수들"
      ]
    },
    {
      "cell_type": "code",
      "metadata": {
        "id": "3ZVSB5winVDl",
        "colab_type": "code",
        "colab": {
          "base_uri": "https://localhost:8080/",
          "height": 35
        },
        "outputId": "eae97809-9719-44af-903e-3a5b954bbade"
      },
      "source": [
        "s1 = set([1, 2, 3])\n",
        "s1.add(4)\n",
        "s1"
      ],
      "execution_count": 22,
      "outputs": [
        {
          "output_type": "execute_result",
          "data": {
            "text/plain": [
              "{1, 2, 3, 4}"
            ]
          },
          "metadata": {
            "tags": []
          },
          "execution_count": 22
        }
      ]
    },
    {
      "cell_type": "markdown",
      "metadata": {
        "id": "e6G_39rinYPj",
        "colab_type": "text"
      },
      "source": [
        "##값 여러개 추가하기"
      ]
    },
    {
      "cell_type": "code",
      "metadata": {
        "id": "B760MYHxnaPE",
        "colab_type": "code",
        "colab": {
          "base_uri": "https://localhost:8080/",
          "height": 35
        },
        "outputId": "ada48830-f100-40bf-d37f-083cd06cda88"
      },
      "source": [
        "s1 = set([1, 2, 3])\n",
        "s1.update([4,5,6])\n",
        "s1\n"
      ],
      "execution_count": 23,
      "outputs": [
        {
          "output_type": "execute_result",
          "data": {
            "text/plain": [
              "{1, 2, 3, 4, 5, 6}"
            ]
          },
          "metadata": {
            "tags": []
          },
          "execution_count": 23
        }
      ]
    },
    {
      "cell_type": "code",
      "metadata": {
        "id": "TgIun-P3ncvd",
        "colab_type": "code",
        "colab": {
          "base_uri": "https://localhost:8080/",
          "height": 35
        },
        "outputId": "46eea913-8ce0-4c02-c3b7-34af7f48d203"
      },
      "source": [
        "s1.add(5)\n",
        "s1"
      ],
      "execution_count": 25,
      "outputs": [
        {
          "output_type": "execute_result",
          "data": {
            "text/plain": [
              "{1, 2, 3, 4, 5, 6}"
            ]
          },
          "metadata": {
            "tags": []
          },
          "execution_count": 25
        }
      ]
    },
    {
      "cell_type": "markdown",
      "metadata": {
        "id": "274ZWPPqngA0",
        "colab_type": "text"
      },
      "source": [
        "##특정값 제거하기"
      ]
    },
    {
      "cell_type": "code",
      "metadata": {
        "id": "GgzZ7K4rniim",
        "colab_type": "code",
        "colab": {
          "base_uri": "https://localhost:8080/",
          "height": 35
        },
        "outputId": "7bf80c71-a58b-47f5-cae4-eae6ea9c08b0"
      },
      "source": [
        "s1 = set([1, 2, 3])\n",
        "s1.remove(2)\n",
        "s1"
      ],
      "execution_count": 26,
      "outputs": [
        {
          "output_type": "execute_result",
          "data": {
            "text/plain": [
              "{1, 3}"
            ]
          },
          "metadata": {
            "tags": []
          },
          "execution_count": 26
        }
      ]
    },
    {
      "cell_type": "markdown",
      "metadata": {
        "id": "41jiTYa8n3TE",
        "colab_type": "text"
      },
      "source": [
        "### frozenset()  # immutable set"
      ]
    },
    {
      "cell_type": "code",
      "metadata": {
        "id": "Pgj-EgJanmCk",
        "colab_type": "code",
        "colab": {}
      },
      "source": [
        "small_primes = frozenset([2, 3, 5, 7])\n",
        "bigger_primes = frozenset([5, 7, 11])\n"
      ],
      "execution_count": 0,
      "outputs": []
    },
    {
      "cell_type": "markdown",
      "metadata": {
        "id": "qNmm8ipyn6JU",
        "colab_type": "text"
      },
      "source": [
        "##we cannot add to a frozenset -> AttributeError"
      ]
    },
    {
      "cell_type": "code",
      "metadata": {
        "id": "3CRcX-lkn7Xc",
        "colab_type": "code",
        "colab": {}
      },
      "source": [
        "small_primes.add(11)"
      ],
      "execution_count": 0,
      "outputs": []
    },
    {
      "cell_type": "markdown",
      "metadata": {
        "id": "lTxkG8iWn9qb",
        "colab_type": "text"
      },
      "source": [
        "## neither we can remove -> AttributeError"
      ]
    },
    {
      "cell_type": "code",
      "metadata": {
        "id": "sB088AtcoBVz",
        "colab_type": "code",
        "colab": {}
      },
      "source": [
        "small_primes.remove(2)"
      ],
      "execution_count": 0,
      "outputs": []
    },
    {
      "cell_type": "markdown",
      "metadata": {
        "id": "0rOqfYBboD4D",
        "colab_type": "text"
      },
      "source": [
        "##intersect, union, etc. allowed ## frozenset({5, 7})"
      ]
    },
    {
      "cell_type": "code",
      "metadata": {
        "id": "AMfuDHkZoI3U",
        "colab_type": "code",
        "colab": {
          "base_uri": "https://localhost:8080/",
          "height": 35
        },
        "outputId": "f5527da6-8697-4e8d-d0a5-3717c912f74b"
      },
      "source": [
        "small_primes & bigger_primes"
      ],
      "execution_count": 31,
      "outputs": [
        {
          "output_type": "execute_result",
          "data": {
            "text/plain": [
              "frozenset({5, 7})"
            ]
          },
          "metadata": {
            "tags": []
          },
          "execution_count": 31
        }
      ]
    }
  ]
}