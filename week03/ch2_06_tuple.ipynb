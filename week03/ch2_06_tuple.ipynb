{
  "nbformat": 4,
  "nbformat_minor": 0,
  "metadata": {
    "colab": {
      "name": "ch2_06_tuple.ipynb",
      "provenance": [],
      "collapsed_sections": [],
      "include_colab_link": true
    },
    "kernelspec": {
      "name": "python2",
      "display_name": "Python 2"
    }
  },
  "cells": [
    {
      "cell_type": "markdown",
      "metadata": {
        "id": "view-in-github",
        "colab_type": "text"
      },
      "source": [
        "<a href=\"https://colab.research.google.com/github/Dongjin100/sm100/blob/master/week03/ch2_06_tuple.ipynb\" target=\"_parent\"><img src=\"https://colab.research.google.com/assets/colab-badge.svg\" alt=\"Open In Colab\"/></a>"
      ]
    },
    {
      "cell_type": "markdown",
      "metadata": {
        "id": "Z4ztFCZe3m-Q",
        "colab_type": "text"
      },
      "source": [
        "##튜플: tuple 이란?"
      ]
    },
    {
      "cell_type": "code",
      "metadata": {
        "id": "xjL7kmhR3rqA",
        "colab_type": "code",
        "colab": {}
      },
      "source": [
        "t1 = (1, 2, \"a\", \"b\")"
      ],
      "execution_count": 0,
      "outputs": []
    },
    {
      "cell_type": "markdown",
      "metadata": {
        "id": "kLtJP-2132if",
        "colab_type": "text"
      },
      "source": [
        "##생성된 듀플에서 요소값을 지우려고하면 에러가 난다"
      ]
    },
    {
      "cell_type": "code",
      "metadata": {
        "id": "OUUgjJLn3u5v",
        "colab_type": "code",
        "colab": {}
      },
      "source": [
        "## 에러코드 del t1[0]"
      ],
      "execution_count": 0,
      "outputs": []
    },
    {
      "cell_type": "code",
      "metadata": {
        "id": "Jx-GmofZ3xbn",
        "colab_type": "code",
        "colab": {}
      },
      "source": [
        "## 에러코드 t1[0] = \"c\""
      ],
      "execution_count": 0,
      "outputs": []
    },
    {
      "cell_type": "markdown",
      "metadata": {
        "id": "-9Hkff2w365R",
        "colab_type": "text"
      },
      "source": [
        "## 듀플 사용법"
      ]
    },
    {
      "cell_type": "code",
      "metadata": {
        "id": "dNtK4yTq39L_",
        "colab_type": "code",
        "colab": {}
      },
      "source": [
        "t1 = (1, 2, \"a\", \"b\")\n"
      ],
      "execution_count": 0,
      "outputs": []
    },
    {
      "cell_type": "code",
      "metadata": {
        "id": "7Ustz6RA3_YA",
        "colab_type": "code",
        "colab": {
          "base_uri": "https://localhost:8080/",
          "height": 35
        },
        "outputId": "590d444d-ee50-4175-b0fa-4e2b1ea45c9d"
      },
      "source": [
        "t1[0]\n"
      ],
      "execution_count": 3,
      "outputs": [
        {
          "output_type": "execute_result",
          "data": {
            "text/plain": [
              "1"
            ]
          },
          "metadata": {
            "tags": []
          },
          "execution_count": 3
        }
      ]
    },
    {
      "cell_type": "code",
      "metadata": {
        "id": "4880dWeP4ASo",
        "colab_type": "code",
        "colab": {
          "base_uri": "https://localhost:8080/",
          "height": 35
        },
        "outputId": "3c62f6dd-563f-4a7f-ee27-798496547a8a"
      },
      "source": [
        "\n",
        "t1[3]"
      ],
      "execution_count": 4,
      "outputs": [
        {
          "output_type": "execute_result",
          "data": {
            "text/plain": [
              "'b'"
            ]
          },
          "metadata": {
            "tags": []
          },
          "execution_count": 4
        }
      ]
    },
    {
      "cell_type": "markdown",
      "metadata": {
        "id": "dd60oH084CBn",
        "colab_type": "text"
      },
      "source": [
        "##슬라이싱하기"
      ]
    },
    {
      "cell_type": "code",
      "metadata": {
        "id": "exWS_z9P4EQ3",
        "colab_type": "code",
        "colab": {
          "base_uri": "https://localhost:8080/",
          "height": 35
        },
        "outputId": "1751a063-5ef9-4ccc-b8ce-2e4e857c2fe3"
      },
      "source": [
        "t1 = (1, 2, \"a\", \"b\")\n",
        "t1[1:]\n"
      ],
      "execution_count": 5,
      "outputs": [
        {
          "output_type": "execute_result",
          "data": {
            "text/plain": [
              "(2, 'a', 'b')"
            ]
          },
          "metadata": {
            "tags": []
          },
          "execution_count": 5
        }
      ]
    },
    {
      "cell_type": "code",
      "metadata": {
        "id": "_rGnds7J4HSP",
        "colab_type": "code",
        "colab": {
          "base_uri": "https://localhost:8080/",
          "height": 35
        },
        "outputId": "6aeef4e1-70af-47cf-f2f2-57076c5c837d"
      },
      "source": [
        "t1[2:-1]  # ('a',)\n"
      ],
      "execution_count": 6,
      "outputs": [
        {
          "output_type": "execute_result",
          "data": {
            "text/plain": [
              "('a',)"
            ]
          },
          "metadata": {
            "tags": []
          },
          "execution_count": 6
        }
      ]
    },
    {
      "cell_type": "code",
      "metadata": {
        "id": "mil8JUK04IgO",
        "colab_type": "code",
        "colab": {
          "base_uri": "https://localhost:8080/",
          "height": 35
        },
        "outputId": "40ef2379-6713-42e2-dedf-b2308eb7886d"
      },
      "source": [
        "\n",
        "t1[2:]"
      ],
      "execution_count": 7,
      "outputs": [
        {
          "output_type": "execute_result",
          "data": {
            "text/plain": [
              "('a', 'b')"
            ]
          },
          "metadata": {
            "tags": []
          },
          "execution_count": 7
        }
      ]
    },
    {
      "cell_type": "markdown",
      "metadata": {
        "id": "uo4EEgpp4KWn",
        "colab_type": "text"
      },
      "source": [
        "##듀플더하기"
      ]
    },
    {
      "cell_type": "code",
      "metadata": {
        "id": "JNpouks94MS-",
        "colab_type": "code",
        "colab": {
          "base_uri": "https://localhost:8080/",
          "height": 35
        },
        "outputId": "db4581d9-2f18-45d9-c817-5396b418f5fd"
      },
      "source": [
        "t1 = (1, 2, \"a\", \"b\")\n",
        "t2 = (3, 4)\n",
        "t1 + t2"
      ],
      "execution_count": 8,
      "outputs": [
        {
          "output_type": "execute_result",
          "data": {
            "text/plain": [
              "(1, 2, 'a', 'b', 3, 4)"
            ]
          },
          "metadata": {
            "tags": []
          },
          "execution_count": 8
        }
      ]
    },
    {
      "cell_type": "markdown",
      "metadata": {
        "id": "F1Cb9jH64OLH",
        "colab_type": "text"
      },
      "source": [
        "##듀플 곱하기"
      ]
    },
    {
      "cell_type": "code",
      "metadata": {
        "id": "v8Pmzw-34Qbn",
        "colab_type": "code",
        "colab": {
          "base_uri": "https://localhost:8080/",
          "height": 35
        },
        "outputId": "bb8352e9-cfce-4446-91f5-0a08fc41d7e5"
      },
      "source": [
        "t2 = (3, 4)\n",
        "id(t2)\n",
        "\n"
      ],
      "execution_count": 11,
      "outputs": [
        {
          "output_type": "execute_result",
          "data": {
            "text/plain": [
              "140064968329192"
            ]
          },
          "metadata": {
            "tags": []
          },
          "execution_count": 11
        }
      ]
    },
    {
      "cell_type": "code",
      "metadata": {
        "id": "QgkwivVd4VCA",
        "colab_type": "code",
        "colab": {
          "base_uri": "https://localhost:8080/",
          "height": 35
        },
        "outputId": "8f7347bd-029a-4ac7-b2a3-05ff6613502d"
      },
      "source": [
        "t2 * 3"
      ],
      "execution_count": 12,
      "outputs": [
        {
          "output_type": "execute_result",
          "data": {
            "text/plain": [
              "(3, 4, 3, 4, 3, 4)"
            ]
          },
          "metadata": {
            "tags": []
          },
          "execution_count": 12
        }
      ]
    },
    {
      "cell_type": "code",
      "metadata": {
        "id": "fiQDyYmr4W9n",
        "colab_type": "code",
        "colab": {
          "base_uri": "https://localhost:8080/",
          "height": 35
        },
        "outputId": "8349e842-10f2-45c2-87c5-2c9e52484364"
      },
      "source": [
        "id(t2)"
      ],
      "execution_count": 13,
      "outputs": [
        {
          "output_type": "execute_result",
          "data": {
            "text/plain": [
              "140064968329192"
            ]
          },
          "metadata": {
            "tags": []
          },
          "execution_count": 13
        }
      ]
    },
    {
      "cell_type": "code",
      "metadata": {
        "id": "-k69m2GL4aDJ",
        "colab_type": "code",
        "colab": {}
      },
      "source": [
        "t2 = t2 * 3"
      ],
      "execution_count": 0,
      "outputs": []
    },
    {
      "cell_type": "code",
      "metadata": {
        "id": "ZEpr6Rlf4bXx",
        "colab_type": "code",
        "colab": {
          "base_uri": "https://localhost:8080/",
          "height": 35
        },
        "outputId": "95aa766e-f970-49c6-8dbc-7537a3624415"
      },
      "source": [
        "id(t2)"
      ],
      "execution_count": 15,
      "outputs": [
        {
          "output_type": "execute_result",
          "data": {
            "text/plain": [
              "140064967287696"
            ]
          },
          "metadata": {
            "tags": []
          },
          "execution_count": 15
        }
      ]
    },
    {
      "cell_type": "markdown",
      "metadata": {
        "id": "Kv8YYFc24b83",
        "colab_type": "text"
      },
      "source": [
        "##듀플 길이 구하기"
      ]
    },
    {
      "cell_type": "code",
      "metadata": {
        "id": "TSuZzTv14eYo",
        "colab_type": "code",
        "colab": {
          "base_uri": "https://localhost:8080/",
          "height": 35
        },
        "outputId": "7f1eaf88-ce23-46a7-ef98-825e39d1eb67"
      },
      "source": [
        "t1 = (1, 2, \"a\", \"b\")\n",
        "len(t1)"
      ],
      "execution_count": 16,
      "outputs": [
        {
          "output_type": "execute_result",
          "data": {
            "text/plain": [
              "4"
            ]
          },
          "metadata": {
            "tags": []
          },
          "execution_count": 16
        }
      ]
    },
    {
      "cell_type": "code",
      "metadata": {
        "id": "8CgB3Nbm3l2Y",
        "colab_type": "code",
        "colab": {}
      },
      "source": [
        ""
      ],
      "execution_count": 0,
      "outputs": []
    }
  ]
}