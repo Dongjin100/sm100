{
  "nbformat": 4,
  "nbformat_minor": 0,
  "metadata": {
    "colab": {
      "name": "ch2_05_list_functions.ipynb",
      "provenance": [],
      "collapsed_sections": [],
      "include_colab_link": true
    },
    "kernelspec": {
      "name": "python2",
      "display_name": "Python 2"
    }
  },
  "cells": [
    {
      "cell_type": "markdown",
      "metadata": {
        "id": "view-in-github",
        "colab_type": "text"
      },
      "source": [
        "<a href=\"https://colab.research.google.com/github/Dongjin100/sm100/blob/master/week03/ch2_05_list_functions.ipynb\" target=\"_parent\"><img src=\"https://colab.research.google.com/assets/colab-badge.svg\" alt=\"Open In Colab\"/></a>"
      ]
    },
    {
      "cell_type": "markdown",
      "metadata": {
        "id": "-HsKS76Y0l3f",
        "colab_type": "text"
      },
      "source": [
        "##리스트에 요소 추가"
      ]
    },
    {
      "cell_type": "code",
      "metadata": {
        "id": "7cKdHndz0oOj",
        "colab_type": "code",
        "colab": {
          "base_uri": "https://localhost:8080/",
          "height": 35
        },
        "outputId": "d191e978-3d74-4711-8a16-f71e3b2a8e7a"
      },
      "source": [
        "a = [1, 2, 3]\n",
        "a.append(4)\n",
        "a\n"
      ],
      "execution_count": 1,
      "outputs": [
        {
          "output_type": "execute_result",
          "data": {
            "text/plain": [
              "[1, 2, 3, 4]"
            ]
          },
          "metadata": {
            "tags": []
          },
          "execution_count": 1
        }
      ]
    },
    {
      "cell_type": "code",
      "metadata": {
        "id": "u1O1-2jb0q3y",
        "colab_type": "code",
        "colab": {
          "base_uri": "https://localhost:8080/",
          "height": 35
        },
        "outputId": "acab6212-825d-4713-b809-c30fc53f9a97"
      },
      "source": [
        "a.append([5, 6])\n",
        "a"
      ],
      "execution_count": 2,
      "outputs": [
        {
          "output_type": "execute_result",
          "data": {
            "text/plain": [
              "[1, 2, 3, 4, [5, 6]]"
            ]
          },
          "metadata": {
            "tags": []
          },
          "execution_count": 2
        }
      ]
    },
    {
      "cell_type": "markdown",
      "metadata": {
        "id": "-mp7qQMP0tK7",
        "colab_type": "text"
      },
      "source": [
        "##리스트 정렬"
      ]
    },
    {
      "cell_type": "code",
      "metadata": {
        "id": "pmv793qI0uhQ",
        "colab_type": "code",
        "colab": {
          "base_uri": "https://localhost:8080/",
          "height": 35
        },
        "outputId": "f45d1a5e-d8fc-4905-8880-cda64baabbb7"
      },
      "source": [
        "a = [1, 4, 3, 2]\n",
        "a.sort()\n",
        "a"
      ],
      "execution_count": 3,
      "outputs": [
        {
          "output_type": "execute_result",
          "data": {
            "text/plain": [
              "[1, 2, 3, 4]"
            ]
          },
          "metadata": {
            "tags": []
          },
          "execution_count": 3
        }
      ]
    },
    {
      "cell_type": "code",
      "metadata": {
        "id": "8OC9BuHs0xLg",
        "colab_type": "code",
        "colab": {
          "base_uri": "https://localhost:8080/",
          "height": 35
        },
        "outputId": "e81450ba-0f46-4da6-e363-93bb51bc8f78"
      },
      "source": [
        "\n",
        "s = [\"a\", \"c\", \"b\"]\n",
        "s.sort()\n",
        "s"
      ],
      "execution_count": 4,
      "outputs": [
        {
          "output_type": "execute_result",
          "data": {
            "text/plain": [
              "['a', 'b', 'c']"
            ]
          },
          "metadata": {
            "tags": []
          },
          "execution_count": 4
        }
      ]
    },
    {
      "cell_type": "markdown",
      "metadata": {
        "id": "HTakgM2e0ygI",
        "colab_type": "text"
      },
      "source": [
        "##리스트 뒤집기"
      ]
    },
    {
      "cell_type": "code",
      "metadata": {
        "id": "P7HYxrUF00Ro",
        "colab_type": "code",
        "colab": {}
      },
      "source": [
        "a = [\"a\", \"c\", \"b\"]\n",
        "a.reverse()\n",
        "a"
      ],
      "execution_count": 0,
      "outputs": []
    },
    {
      "cell_type": "markdown",
      "metadata": {
        "id": "eQ3pUUCl01g4",
        "colab_type": "text"
      },
      "source": [
        "##위치 반환"
      ]
    },
    {
      "cell_type": "code",
      "metadata": {
        "id": "Bkz_CCOX05-g",
        "colab_type": "code",
        "colab": {
          "base_uri": "https://localhost:8080/",
          "height": 35
        },
        "outputId": "d32bcdd0-078f-4a67-efdf-28e761107b52"
      },
      "source": [
        "a = [1, 2, 3]\n",
        "a.index(3)"
      ],
      "execution_count": 5,
      "outputs": [
        {
          "output_type": "execute_result",
          "data": {
            "text/plain": [
              "2"
            ]
          },
          "metadata": {
            "tags": []
          },
          "execution_count": 5
        }
      ]
    },
    {
      "cell_type": "code",
      "metadata": {
        "id": "Ao_Z3Rfs07_Q",
        "colab_type": "code",
        "colab": {
          "base_uri": "https://localhost:8080/",
          "height": 35
        },
        "outputId": "80e24fa2-7ed0-4817-f8c8-64a8291d9a32"
      },
      "source": [
        "a.index(1)"
      ],
      "execution_count": 6,
      "outputs": [
        {
          "output_type": "execute_result",
          "data": {
            "text/plain": [
              "0"
            ]
          },
          "metadata": {
            "tags": []
          },
          "execution_count": 6
        }
      ]
    },
    {
      "cell_type": "markdown",
      "metadata": {
        "id": "OxevMZUs08z4",
        "colab_type": "text"
      },
      "source": [
        "##에러코드"
      ]
    },
    {
      "cell_type": "code",
      "metadata": {
        "id": "7uAkOCgk0-fR",
        "colab_type": "code",
        "colab": {}
      },
      "source": [
        "# a.index(0)"
      ],
      "execution_count": 0,
      "outputs": []
    },
    {
      "cell_type": "code",
      "metadata": {
        "id": "wVl7L9uf0-7w",
        "colab_type": "code",
        "colab": {}
      },
      "source": [
        "s = [\"a\", \"c\", \"b\"]"
      ],
      "execution_count": 0,
      "outputs": []
    },
    {
      "cell_type": "markdown",
      "metadata": {
        "id": "QK4Eenf51DI5",
        "colab_type": "text"
      },
      "source": [
        "##에러코드"
      ]
    },
    {
      "cell_type": "code",
      "metadata": {
        "id": "tsNiaUMb1FUo",
        "colab_type": "code",
        "colab": {}
      },
      "source": [
        "# s.index(3) \n",
        "# s.index(a) "
      ],
      "execution_count": 0,
      "outputs": []
    },
    {
      "cell_type": "code",
      "metadata": {
        "id": "7zS3gxp21HJa",
        "colab_type": "code",
        "colab": {
          "base_uri": "https://localhost:8080/",
          "height": 35
        },
        "outputId": "c1512c66-bf09-479d-b578-cb4993f5fb0f"
      },
      "source": [
        "s.index(\"a\")"
      ],
      "execution_count": 9,
      "outputs": [
        {
          "output_type": "execute_result",
          "data": {
            "text/plain": [
              "0"
            ]
          },
          "metadata": {
            "tags": []
          },
          "execution_count": 9
        }
      ]
    },
    {
      "cell_type": "markdown",
      "metadata": {
        "id": "JUBwpv-D1IIp",
        "colab_type": "text"
      },
      "source": [
        "## 리스트에 요소 삽입"
      ]
    },
    {
      "cell_type": "code",
      "metadata": {
        "id": "_SwXezcn1KoQ",
        "colab_type": "code",
        "colab": {
          "base_uri": "https://localhost:8080/",
          "height": 35
        },
        "outputId": "a8b88620-8949-413d-b4ea-e1aa936f2c67"
      },
      "source": [
        "a = [1, 2, 3]\n",
        "a.insert(0, 4) \n",
        "a"
      ],
      "execution_count": 10,
      "outputs": [
        {
          "output_type": "execute_result",
          "data": {
            "text/plain": [
              "[4, 1, 2, 3]"
            ]
          },
          "metadata": {
            "tags": []
          },
          "execution_count": 10
        }
      ]
    },
    {
      "cell_type": "code",
      "metadata": {
        "id": "Ft2G_D551Mtb",
        "colab_type": "code",
        "colab": {
          "base_uri": "https://localhost:8080/",
          "height": 35
        },
        "outputId": "13e144ac-e674-48c5-bc53-3a0d5d396e7e"
      },
      "source": [
        "a.insert(3, 5)\n",
        "a"
      ],
      "execution_count": 11,
      "outputs": [
        {
          "output_type": "execute_result",
          "data": {
            "text/plain": [
              "[4, 1, 2, 5, 3]"
            ]
          },
          "metadata": {
            "tags": []
          },
          "execution_count": 11
        }
      ]
    },
    {
      "cell_type": "markdown",
      "metadata": {
        "id": "Dpr9FgnJ1Neo",
        "colab_type": "text"
      },
      "source": [
        "##리스트 요소 제거"
      ]
    },
    {
      "cell_type": "code",
      "metadata": {
        "id": "J2VdYCmH1Pro",
        "colab_type": "code",
        "colab": {
          "base_uri": "https://localhost:8080/",
          "height": 35
        },
        "outputId": "971b192b-cb3f-4855-f208-20ab1a82a756"
      },
      "source": [
        "a = [1, 2, 3, 1, 2, 3]\n",
        "a.remove(3)\n",
        "a"
      ],
      "execution_count": 12,
      "outputs": [
        {
          "output_type": "execute_result",
          "data": {
            "text/plain": [
              "[1, 2, 1, 2, 3]"
            ]
          },
          "metadata": {
            "tags": []
          },
          "execution_count": 12
        }
      ]
    },
    {
      "cell_type": "markdown",
      "metadata": {
        "id": "tad2XCDG1Q04",
        "colab_type": "text"
      },
      "source": [
        "##3을 리스트에서 제거하기"
      ]
    },
    {
      "cell_type": "code",
      "metadata": {
        "id": "vQmmkdOW1TSA",
        "colab_type": "code",
        "colab": {
          "base_uri": "https://localhost:8080/",
          "height": 35
        },
        "outputId": "750aed49-efeb-4756-d30e-c4f1e59af8a4"
      },
      "source": [
        "a.remove(3)\n",
        "a"
      ],
      "execution_count": 13,
      "outputs": [
        {
          "output_type": "execute_result",
          "data": {
            "text/plain": [
              "[1, 2, 1, 2]"
            ]
          },
          "metadata": {
            "tags": []
          },
          "execution_count": 13
        }
      ]
    },
    {
      "cell_type": "markdown",
      "metadata": {
        "id": "nIBxoL3y1UTY",
        "colab_type": "text"
      },
      "source": [
        "벨류 에러"
      ]
    },
    {
      "cell_type": "code",
      "metadata": {
        "id": "ElKpEcAI1WIj",
        "colab_type": "code",
        "colab": {}
      },
      "source": [
        "# a.remove(3)"
      ],
      "execution_count": 0,
      "outputs": []
    },
    {
      "cell_type": "markdown",
      "metadata": {
        "id": "Ez8LUr4C1XkA",
        "colab_type": "text"
      },
      "source": [
        "##리스트 요소 끄집어내기"
      ]
    },
    {
      "cell_type": "code",
      "metadata": {
        "id": "odnwLzaC1Zu3",
        "colab_type": "code",
        "colab": {}
      },
      "source": [
        "a = [1, 2, 3]"
      ],
      "execution_count": 0,
      "outputs": []
    },
    {
      "cell_type": "markdown",
      "metadata": {
        "id": "P4lbRXBJ1cRw",
        "colab_type": "text"
      },
      "source": [
        "##TypeError"
      ]
    },
    {
      "cell_type": "code",
      "metadata": {
        "id": "_Mm3omts1eQh",
        "colab_type": "code",
        "colab": {}
      },
      "source": [
        "# a[2] + \"hi\""
      ],
      "execution_count": 0,
      "outputs": []
    },
    {
      "cell_type": "markdown",
      "metadata": {
        "id": "q_g3DRWd1hZv",
        "colab_type": "text"
      },
      "source": [
        "##에러 해결"
      ]
    },
    {
      "cell_type": "code",
      "metadata": {
        "id": "22Zh-CCX1fju",
        "colab_type": "code",
        "colab": {
          "base_uri": "https://localhost:8080/",
          "height": 35
        },
        "outputId": "d2964d65-f4cf-4a28-ddb7-2d5454fd5b2d"
      },
      "source": [
        "\n",
        "str(a[2]) + \"hi\""
      ],
      "execution_count": 15,
      "outputs": [
        {
          "output_type": "execute_result",
          "data": {
            "text/plain": [
              "'3hi'"
            ]
          },
          "metadata": {
            "tags": []
          },
          "execution_count": 15
        }
      ]
    },
    {
      "cell_type": "markdown",
      "metadata": {
        "id": "9atla3l61jv8",
        "colab_type": "text"
      },
      "source": [
        "##리스트의 수정과 삭제"
      ]
    },
    {
      "cell_type": "code",
      "metadata": {
        "id": "WV5M2OM91lG_",
        "colab_type": "code",
        "colab": {}
      },
      "source": [
        "a = [1, 2, 3]"
      ],
      "execution_count": 0,
      "outputs": []
    },
    {
      "cell_type": "markdown",
      "metadata": {
        "id": "1D8Kc40J1mNZ",
        "colab_type": "text"
      },
      "source": [
        "##pop()은 리스트의 맨 마지막 요소를 돌려주고 그 요소는 삭제"
      ]
    },
    {
      "cell_type": "code",
      "metadata": {
        "id": "SvdS4qbs1o1v",
        "colab_type": "code",
        "colab": {
          "base_uri": "https://localhost:8080/",
          "height": 35
        },
        "outputId": "7d9d4c76-5ac4-4a19-f347-82767f334230"
      },
      "source": [
        "a.pop()\n",
        "a"
      ],
      "execution_count": 17,
      "outputs": [
        {
          "output_type": "execute_result",
          "data": {
            "text/plain": [
              "[1, 2]"
            ]
          },
          "metadata": {
            "tags": []
          },
          "execution_count": 17
        }
      ]
    },
    {
      "cell_type": "markdown",
      "metadata": {
        "id": "u03ztSN21qV3",
        "colab_type": "text"
      },
      "source": [
        "##pop(x)는 리스트의 index가 x인 요소를 돌려주고 그 요소는 삭제"
      ]
    },
    {
      "cell_type": "code",
      "metadata": {
        "id": "I-aANykU1r0C",
        "colab_type": "code",
        "colab": {
          "base_uri": "https://localhost:8080/",
          "height": 35
        },
        "outputId": "745a23e9-7874-4c28-bb09-8d4a5346cf34"
      },
      "source": [
        "a = [1, 2, 3]\n",
        "a.pop(1)\n",
        "a"
      ],
      "execution_count": 18,
      "outputs": [
        {
          "output_type": "execute_result",
          "data": {
            "text/plain": [
              "[1, 3]"
            ]
          },
          "metadata": {
            "tags": []
          },
          "execution_count": 18
        }
      ]
    },
    {
      "cell_type": "markdown",
      "metadata": {
        "id": "8Q8WYl2t1tyP",
        "colab_type": "text"
      },
      "source": [
        "##인덱스에러"
      ]
    },
    {
      "cell_type": "code",
      "metadata": {
        "id": "4YHVhwrb1vaw",
        "colab_type": "code",
        "colab": {}
      },
      "source": [
        "# a.pop(2)"
      ],
      "execution_count": 0,
      "outputs": []
    },
    {
      "cell_type": "markdown",
      "metadata": {
        "id": "77O-Vamm1xlH",
        "colab_type": "text"
      },
      "source": [
        "## 카운트를 이용한 리스트에 포함된 요소 x의 개수 세기"
      ]
    },
    {
      "cell_type": "code",
      "metadata": {
        "id": "p2frtKSf1z_w",
        "colab_type": "code",
        "colab": {
          "base_uri": "https://localhost:8080/",
          "height": 35
        },
        "outputId": "73a32a84-b5f6-435e-fd1a-d05fdedef24f"
      },
      "source": [
        "a = [1, 2, 3, 1]\n",
        "a.count(1)"
      ],
      "execution_count": 19,
      "outputs": [
        {
          "output_type": "execute_result",
          "data": {
            "text/plain": [
              "2"
            ]
          },
          "metadata": {
            "tags": []
          },
          "execution_count": 19
        }
      ]
    },
    {
      "cell_type": "markdown",
      "metadata": {
        "id": "OtGaaH5b10_o",
        "colab_type": "text"
      },
      "source": [
        "##extend를 이용한 리스트 확장"
      ]
    },
    {
      "cell_type": "code",
      "metadata": {
        "id": "5PykbPxH17BQ",
        "colab_type": "code",
        "colab": {
          "base_uri": "https://localhost:8080/",
          "height": 35
        },
        "outputId": "e2e4f496-4fae-475d-bb5a-4359236707a6"
      },
      "source": [
        "a = [1, 2, 3]\n",
        "a.extend([4, 5])\n",
        "a"
      ],
      "execution_count": 23,
      "outputs": [
        {
          "output_type": "execute_result",
          "data": {
            "text/plain": [
              "[1, 2, 3, 4, 5]"
            ]
          },
          "metadata": {
            "tags": []
          },
          "execution_count": 23
        }
      ]
    },
    {
      "cell_type": "code",
      "metadata": {
        "id": "1TaSOBPQ188A",
        "colab_type": "code",
        "colab": {
          "base_uri": "https://localhost:8080/",
          "height": 35
        },
        "outputId": "76e0aa65-494f-49e3-c6f8-f6c8c1a9eca6"
      },
      "source": [
        "b = [6, 7]\n",
        "a.extend(b)\n",
        "a"
      ],
      "execution_count": 21,
      "outputs": [
        {
          "output_type": "execute_result",
          "data": {
            "text/plain": [
              "[1, 2, 3, 4, 5, 6, 7]"
            ]
          },
          "metadata": {
            "tags": []
          },
          "execution_count": 21
        }
      ]
    }
  ]
}