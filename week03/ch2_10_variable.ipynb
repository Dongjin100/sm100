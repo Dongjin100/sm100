{
  "nbformat": 4,
  "nbformat_minor": 0,
  "metadata": {
    "colab": {
      "name": "ch2_10_variable.ipynb",
      "provenance": [],
      "include_colab_link": true
    },
    "kernelspec": {
      "name": "python2",
      "display_name": "Python 2"
    }
  },
  "cells": [
    {
      "cell_type": "markdown",
      "metadata": {
        "id": "view-in-github",
        "colab_type": "text"
      },
      "source": [
        "<a href=\"https://colab.research.google.com/github/Dongjin100/sm100/blob/master/week03/ch2_10_variable.ipynb\" target=\"_parent\"><img src=\"https://colab.research.google.com/assets/colab-badge.svg\" alt=\"Open In Colab\"/></a>"
      ]
    },
    {
      "cell_type": "markdown",
      "metadata": {
        "id": "JFCJLbOOqCyj",
        "colab_type": "text"
      },
      "source": [
        "##variable"
      ]
    },
    {
      "cell_type": "markdown",
      "metadata": {
        "id": "n3zEB1QBqHvT",
        "colab_type": "text"
      },
      "source": [
        "변수란?  변수는 자료(값)을 저장하는 공간이다."
      ]
    },
    {
      "cell_type": "code",
      "metadata": {
        "id": "GOuazw8lqLBj",
        "colab_type": "code",
        "colab": {
          "base_uri": "https://localhost:8080/",
          "height": 35
        },
        "outputId": "54a727a5-1fc5-4adf-bff2-a612ea01afcf"
      },
      "source": [
        "a = [1, 2, 3]\n",
        "id(a)"
      ],
      "execution_count": 1,
      "outputs": [
        {
          "output_type": "execute_result",
          "data": {
            "text/plain": [
              "139918462604856"
            ]
          },
          "metadata": {
            "tags": []
          },
          "execution_count": 1
        }
      ]
    },
    {
      "cell_type": "code",
      "metadata": {
        "id": "lqJak3RRqPJl",
        "colab_type": "code",
        "colab": {
          "base_uri": "https://localhost:8080/",
          "height": 35
        },
        "outputId": "687a9781-a1c8-48c2-9304-4ed2e3f24af2"
      },
      "source": [
        "a = [1, 2, 3]\n",
        "id(a)"
      ],
      "execution_count": 2,
      "outputs": [
        {
          "output_type": "execute_result",
          "data": {
            "text/plain": [
              "139918462607160"
            ]
          },
          "metadata": {
            "tags": []
          },
          "execution_count": 2
        }
      ]
    },
    {
      "cell_type": "markdown",
      "metadata": {
        "id": "G_W6WcfGqTce",
        "colab_type": "text"
      },
      "source": [
        "## 값이 똑같은 것을 확인 가능"
      ]
    },
    {
      "cell_type": "code",
      "metadata": {
        "id": "th9xMUTvqRbW",
        "colab_type": "code",
        "colab": {
          "base_uri": "https://localhost:8080/",
          "height": 35
        },
        "outputId": "03be94f9-11bb-4694-cdb2-a719b6ed6003"
      },
      "source": [
        "b = a\n",
        "id(a), id(b)"
      ],
      "execution_count": 3,
      "outputs": [
        {
          "output_type": "execute_result",
          "data": {
            "text/plain": [
              "(139918462607160, 139918462607160)"
            ]
          },
          "metadata": {
            "tags": []
          },
          "execution_count": 3
        }
      ]
    },
    {
      "cell_type": "markdown",
      "metadata": {
        "id": "Wttud7FTqnRF",
        "colab_type": "text"
      },
      "source": [
        "## 주소가 동일 하므로 같은 값이 맞음"
      ]
    },
    {
      "cell_type": "code",
      "metadata": {
        "id": "a-oCgbKZqYbc",
        "colab_type": "code",
        "colab": {
          "base_uri": "https://localhost:8080/",
          "height": 35
        },
        "outputId": "4da69395-b36d-4916-bc81-52d2e21cad45"
      },
      "source": [
        "a is b"
      ],
      "execution_count": 4,
      "outputs": [
        {
          "output_type": "execute_result",
          "data": {
            "text/plain": [
              "True"
            ]
          },
          "metadata": {
            "tags": []
          },
          "execution_count": 4
        }
      ]
    },
    {
      "cell_type": "code",
      "metadata": {
        "id": "bjib-La2qaf6",
        "colab_type": "code",
        "colab": {
          "base_uri": "https://localhost:8080/",
          "height": 35
        },
        "outputId": "c2300935-39f9-4ce7-83a6-59167b127cff"
      },
      "source": [
        "a[1] = 4\n",
        "a, b"
      ],
      "execution_count": 6,
      "outputs": [
        {
          "output_type": "execute_result",
          "data": {
            "text/plain": [
              "([1, 4, 3], [1, 4, 3])"
            ]
          },
          "metadata": {
            "tags": []
          },
          "execution_count": 6
        }
      ]
    },
    {
      "cell_type": "code",
      "metadata": {
        "id": "FOw6oLtUqfZr",
        "colab_type": "code",
        "colab": {
          "base_uri": "https://localhost:8080/",
          "height": 35
        },
        "outputId": "d62887b9-ec0a-4e21-83c4-e1850690fcb3"
      },
      "source": [
        "a is b"
      ],
      "execution_count": 7,
      "outputs": [
        {
          "output_type": "execute_result",
          "data": {
            "text/plain": [
              "True"
            ]
          },
          "metadata": {
            "tags": []
          },
          "execution_count": 7
        }
      ]
    },
    {
      "cell_type": "code",
      "metadata": {
        "id": "vydSPGLHqhca",
        "colab_type": "code",
        "colab": {
          "base_uri": "https://localhost:8080/",
          "height": 35
        },
        "outputId": "a300c6af-5e54-48f3-b0b0-6f6d998b5dc8"
      },
      "source": [
        "b = [1, 2, 3]\n",
        "id(b)"
      ],
      "execution_count": 8,
      "outputs": [
        {
          "output_type": "execute_result",
          "data": {
            "text/plain": [
              "139918462298952"
            ]
          },
          "metadata": {
            "tags": []
          },
          "execution_count": 8
        }
      ]
    },
    {
      "cell_type": "code",
      "metadata": {
        "id": "I5b9kapqqjT1",
        "colab_type": "code",
        "colab": {
          "base_uri": "https://localhost:8080/",
          "height": 35
        },
        "outputId": "4d74feed-75f6-4e45-a11f-e18e4506c891"
      },
      "source": [
        "a is b"
      ],
      "execution_count": 9,
      "outputs": [
        {
          "output_type": "execute_result",
          "data": {
            "text/plain": [
              "False"
            ]
          },
          "metadata": {
            "tags": []
          },
          "execution_count": 9
        }
      ]
    },
    {
      "cell_type": "markdown",
      "metadata": {
        "id": "KAM-_efBqz0z",
        "colab_type": "text"
      },
      "source": [
        "##b 변수를 생성할 때 a 변수의 값을 가져오면서 a와는 다른 주소를 가리키도록 만드는 방법"
      ]
    },
    {
      "cell_type": "markdown",
      "metadata": {
        "id": "EwKcfcLOq9XD",
        "colab_type": "text"
      },
      "source": [
        "1번 [:] 이용"
      ]
    },
    {
      "cell_type": "code",
      "metadata": {
        "id": "nTRSXaEsrDbK",
        "colab_type": "code",
        "colab": {
          "base_uri": "https://localhost:8080/",
          "height": 35
        },
        "outputId": "d3414a1b-db3e-4578-85c2-5a4bc4e4bb22"
      },
      "source": [
        "a = [1, 2, 3]\n",
        "b = a[:]\n",
        "a[1] = 4\n",
        "a, b\n"
      ],
      "execution_count": 12,
      "outputs": [
        {
          "output_type": "execute_result",
          "data": {
            "text/plain": [
              "([1, 4, 3], [1, 2, 3])"
            ]
          },
          "metadata": {
            "tags": []
          },
          "execution_count": 12
        }
      ]
    },
    {
      "cell_type": "markdown",
      "metadata": {
        "id": "NC46f_3QrPV7",
        "colab_type": "text"
      },
      "source": [
        "##2번 copy모듈 이용"
      ]
    },
    {
      "cell_type": "code",
      "metadata": {
        "id": "L8ygRU3XrR9z",
        "colab_type": "code",
        "colab": {
          "base_uri": "https://localhost:8080/",
          "height": 35
        },
        "outputId": "af748e9f-55e7-4589-f027-c2bad9bf775e"
      },
      "source": [
        "a = [1, 2, 3]\n",
        "\n",
        "b is a, a is b"
      ],
      "execution_count": 15,
      "outputs": [
        {
          "output_type": "execute_result",
          "data": {
            "text/plain": [
              "(False, False)"
            ]
          },
          "metadata": {
            "tags": []
          },
          "execution_count": 15
        }
      ]
    },
    {
      "cell_type": "markdown",
      "metadata": {
        "id": "lHauRRQyrhws",
        "colab_type": "text"
      },
      "source": [
        "##변수를 만드는 여러가지 방법"
      ]
    },
    {
      "cell_type": "code",
      "metadata": {
        "id": "wQfoRF3arkKq",
        "colab_type": "code",
        "colab": {
          "base_uri": "https://localhost:8080/",
          "height": 35
        },
        "outputId": "aee932c6-0ac0-4e9d-8e08-e26c1f2f5ab2"
      },
      "source": [
        "a, b = (\"python\", \"life\")\n",
        "a\n"
      ],
      "execution_count": 16,
      "outputs": [
        {
          "output_type": "execute_result",
          "data": {
            "text/plain": [
              "'python'"
            ]
          },
          "metadata": {
            "tags": []
          },
          "execution_count": 16
        }
      ]
    },
    {
      "cell_type": "code",
      "metadata": {
        "id": "1exSmS4LrmRy",
        "colab_type": "code",
        "colab": {
          "base_uri": "https://localhost:8080/",
          "height": 35
        },
        "outputId": "5457e714-9d6c-45ba-af8e-8b8b4505e645"
      },
      "source": [
        "b\n"
      ],
      "execution_count": 17,
      "outputs": [
        {
          "output_type": "execute_result",
          "data": {
            "text/plain": [
              "'life'"
            ]
          },
          "metadata": {
            "tags": []
          },
          "execution_count": 17
        }
      ]
    },
    {
      "cell_type": "code",
      "metadata": {
        "id": "PgtSFjkmrnDC",
        "colab_type": "code",
        "colab": {
          "base_uri": "https://localhost:8080/",
          "height": 35
        },
        "outputId": "561d5106-c913-4008-aeec-0f894ead797c"
      },
      "source": [
        "\n",
        "a, b"
      ],
      "execution_count": 18,
      "outputs": [
        {
          "output_type": "execute_result",
          "data": {
            "text/plain": [
              "('python', 'life')"
            ]
          },
          "metadata": {
            "tags": []
          },
          "execution_count": 18
        }
      ]
    },
    {
      "cell_type": "code",
      "metadata": {
        "id": "C8DZb11jrpCt",
        "colab_type": "code",
        "colab": {
          "base_uri": "https://localhost:8080/",
          "height": 35
        },
        "outputId": "a974f88c-080b-4d83-8599-5f4a94a58ad1"
      },
      "source": [
        "[a, b] = [\"python\", \"life\"]\n",
        "a\n"
      ],
      "execution_count": 19,
      "outputs": [
        {
          "output_type": "execute_result",
          "data": {
            "text/plain": [
              "'python'"
            ]
          },
          "metadata": {
            "tags": []
          },
          "execution_count": 19
        }
      ]
    },
    {
      "cell_type": "code",
      "metadata": {
        "id": "eiOWJGtYrqkj",
        "colab_type": "code",
        "colab": {
          "base_uri": "https://localhost:8080/",
          "height": 35
        },
        "outputId": "bd75e659-6635-4e42-a664-26bae9ca4042"
      },
      "source": [
        "\n",
        "b"
      ],
      "execution_count": 20,
      "outputs": [
        {
          "output_type": "execute_result",
          "data": {
            "text/plain": [
              "'life'"
            ]
          },
          "metadata": {
            "tags": []
          },
          "execution_count": 20
        }
      ]
    },
    {
      "cell_type": "code",
      "metadata": {
        "id": "zB8ZE6iVrwzb",
        "colab_type": "code",
        "colab": {
          "base_uri": "https://localhost:8080/",
          "height": 35
        },
        "outputId": "47a3637c-3a59-422b-db73-10f240daac4f"
      },
      "source": [
        "a = 3\n",
        "b = 5\n",
        "a, b = b, a\n",
        "a"
      ],
      "execution_count": 21,
      "outputs": [
        {
          "output_type": "execute_result",
          "data": {
            "text/plain": [
              "5"
            ]
          },
          "metadata": {
            "tags": []
          },
          "execution_count": 21
        }
      ]
    },
    {
      "cell_type": "code",
      "metadata": {
        "id": "fVJ7R3OIrzRz",
        "colab_type": "code",
        "colab": {
          "base_uri": "https://localhost:8080/",
          "height": 35
        },
        "outputId": "5c9528cf-a0df-486e-e5f0-c5f5b45ef298"
      },
      "source": [
        "\n",
        "b"
      ],
      "execution_count": 22,
      "outputs": [
        {
          "output_type": "execute_result",
          "data": {
            "text/plain": [
              "3"
            ]
          },
          "metadata": {
            "tags": []
          },
          "execution_count": 22
        }
      ]
    },
    {
      "cell_type": "markdown",
      "metadata": {
        "id": "oAQM2KoDqHaS",
        "colab_type": "text"
      },
      "source": [
        ""
      ]
    },
    {
      "cell_type": "code",
      "metadata": {
        "id": "6T_MtyWdqAim",
        "colab_type": "code",
        "colab": {}
      },
      "source": [
        ""
      ],
      "execution_count": 0,
      "outputs": []
    }
  ]
}