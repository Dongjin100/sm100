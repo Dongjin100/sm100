{
  "nbformat": 4,
  "nbformat_minor": 0,
  "metadata": {
    "colab": {
      "name": "ch2_01_numeric.py",
      "provenance": [],
      "collapsed_sections": [],
      "include_colab_link": true
    },
    "kernelspec": {
      "name": "python2",
      "display_name": "Python 2"
    }
  },
  "cells": [
    {
      "cell_type": "markdown",
      "metadata": {
        "id": "view-in-github",
        "colab_type": "text"
      },
      "source": [
        "<a href=\"https://colab.research.google.com/github/Dongjin100/sm100/blob/master/week2/ch2_01_numeric_py.ipynb\" target=\"_parent\"><img src=\"https://colab.research.google.com/assets/colab-badge.svg\" alt=\"Open In Colab\"/></a>"
      ]
    },
    {
      "cell_type": "markdown",
      "metadata": {
        "id": "aV589qKMm8wQ",
        "colab_type": "text"
      },
      "source": [
        "##파이썬 데이터 숫자형"
      ]
    },
    {
      "cell_type": "markdown",
      "metadata": {
        "id": "7zg5lWZiqPeH",
        "colab_type": "text"
      },
      "source": [
        "##숫자형: 정수"
      ]
    },
    {
      "cell_type": "code",
      "metadata": {
        "id": "-GKjvisQm7jY",
        "colab_type": "code",
        "colab": {
          "base_uri": "https://localhost:8080/",
          "height": 89
        },
        "outputId": "2e8c8aed-2d7b-4520-8c0a-701da1306471"
      },
      "source": [
        "# ch2_01_numeric.py\n",
        "#\n",
        "print(\"숫자형: 정수\")\n",
        "a = 123\n",
        "print(a)\n",
        "a = -178\n",
        "print(a)\n",
        "a = 0\n",
        "print(a)\n"
      ],
      "execution_count": 2,
      "outputs": [
        {
          "output_type": "stream",
          "text": [
            "숫자형: 정수\n",
            "123\n",
            "-178\n",
            "0\n"
          ],
          "name": "stdout"
        }
      ]
    },
    {
      "cell_type": "markdown",
      "metadata": {
        "id": "8mo6bcblqNc4",
        "colab_type": "text"
      },
      "source": [
        "##숫자형: 실수"
      ]
    },
    {
      "cell_type": "code",
      "metadata": {
        "id": "uX-GWbxGoIqK",
        "colab_type": "code",
        "colab": {
          "base_uri": "https://localhost:8080/",
          "height": 107
        },
        "outputId": "1e4735f1-3f59-4739-f6e3-d4543176879b"
      },
      "source": [
        "print(\"숫자형: 실수\")\n",
        "a = 1.2\n",
        "print(a)\n",
        "a = -3.48\n",
        "print(a)\n",
        "a = 4.24e10\n",
        "print(a)\n",
        "a = 4.24e-10\n",
        "print(a)\n",
        "\n",
        "\n",
        " "
      ],
      "execution_count": 5,
      "outputs": [
        {
          "output_type": "stream",
          "text": [
            "숫자형: 실수\n",
            "1.2\n",
            "-3.48\n",
            "42400000000.0\n",
            "4.24e-10\n"
          ],
          "name": "stdout"
        }
      ]
    },
    {
      "cell_type": "markdown",
      "metadata": {
        "id": "YVFDRe3eqKCX",
        "colab_type": "text"
      },
      "source": [
        "##숫자형: 8진수와 16진수"
      ]
    },
    {
      "cell_type": "code",
      "metadata": {
        "id": "wgwfcDjLpI2Q",
        "colab_type": "code",
        "colab": {
          "base_uri": "https://localhost:8080/",
          "height": 89
        },
        "outputId": "cd8b3eb9-e17f-4d66-b303-f25e8e4f4fcd"
      },
      "source": [
        "print(\"숫자형: 8진수와 16진수\")\n",
        "a = 0o177\n",
        "print(a)\n",
        "b = 0x8FF\n",
        "print(b)\n",
        "c = 0xABC\n",
        "print(c)\n"
      ],
      "execution_count": 15,
      "outputs": [
        {
          "output_type": "stream",
          "text": [
            "숫자형: 8진수와 16진수\n",
            "127\n",
            "2303\n",
            "2748\n"
          ],
          "name": "stdout"
        }
      ]
    },
    {
      "cell_type": "markdown",
      "metadata": {
        "id": "rxrdaCYNp3BS",
        "colab_type": "text"
      },
      "source": [
        "##숫자형: 연산자와 연산"
      ]
    },
    {
      "cell_type": "code",
      "metadata": {
        "id": "hJLbFt2ypPWY",
        "colab_type": "code",
        "colab": {
          "base_uri": "https://localhost:8080/",
          "height": 179
        },
        "outputId": "ad9dab8e-a3ac-4bea-d2c8-e74c34b47b0f"
      },
      "source": [
        "print(\"숫자형: 연산자와 연산\")\n",
        "a = 3\n",
        "b = 4\n",
        "print(a + b)\n",
        "print(a * b)\n",
        "print(a / b)\n",
        "print(a ** b)\n",
        "print(a % b)\n",
        "print(a // b)\n",
        "\n",
        "print(14 // 3)\n",
        "print(14 % 3)"
      ],
      "execution_count": 13,
      "outputs": [
        {
          "output_type": "stream",
          "text": [
            "숫자형: 연산자와 연산\n",
            "7\n",
            "12\n",
            "0\n",
            "81\n",
            "3\n",
            "0\n",
            "4\n",
            "2\n"
          ],
          "name": "stdout"
        }
      ]
    }
  ]
}