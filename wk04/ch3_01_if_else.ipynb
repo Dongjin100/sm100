{
  "nbformat": 4,
  "nbformat_minor": 0,
  "metadata": {
    "colab": {
      "name": "ch3_01_if_else.ipynb",
      "provenance": [],
      "collapsed_sections": [],
      "include_colab_link": true
    },
    "kernelspec": {
      "name": "python2",
      "display_name": "Python 2"
    }
  },
  "cells": [
    {
      "cell_type": "markdown",
      "metadata": {
        "id": "view-in-github",
        "colab_type": "text"
      },
      "source": [
        "<a href=\"https://colab.research.google.com/github/Dongjin100/sm100/blob/master/wk04/ch3_01_if_else.ipynb\" target=\"_parent\"><img src=\"https://colab.research.google.com/assets/colab-badge.svg\" alt=\"Open In Colab\"/></a>"
      ]
    },
    {
      "cell_type": "markdown",
      "metadata": {
        "id": "lA9gzMyhHgzD",
        "colab_type": "text"
      },
      "source": [
        "##if문 사용"
      ]
    },
    {
      "cell_type": "code",
      "metadata": {
        "id": "r8qKb6rpHPYw",
        "colab_type": "code",
        "colab": {
          "base_uri": "https://localhost:8080/",
          "height": 53
        },
        "outputId": "39e7f106-ea54-462d-c415-7d4bdb52d610"
      },
      "source": [
        "print(\"if문은 어떻게 사용?\")\n",
        "money = True\n",
        "if money:\n",
        "    print(\"택시를 타고 가라\")\n",
        "else:\n",
        "    print(\"걸어 가라\")"
      ],
      "execution_count": 1,
      "outputs": [
        {
          "output_type": "stream",
          "text": [
            "if문은 어떻게 사용?\n",
            "택시를 타고 가라\n"
          ],
          "name": "stdout"
        }
      ]
    },
    {
      "cell_type": "markdown",
      "metadata": {
        "id": "WPqzxYV7Kc-8",
        "colab_type": "text"
      },
      "source": [
        "##if문의 기본 구조\n",
        "##if 조건문:\n",
        "수행할 문장1\n",
        "수행할 문장2\n",
        "\n",
        "##else:\n",
        "수행할 문장A\n",
        "수행할 문장B\n"
      ]
    },
    {
      "cell_type": "markdown",
      "metadata": {
        "id": "RL0zzMkxH48f",
        "colab_type": "text"
      },
      "source": [
        "##if문 들여쓰기"
      ]
    },
    {
      "cell_type": "code",
      "metadata": {
        "id": "tO_jgb7gH3Xp",
        "colab_type": "code",
        "colab": {
          "base_uri": "https://localhost:8080/",
          "height": 89
        },
        "outputId": "cdbbcf54-2e5e-473a-b6c0-507e1de553f6"
      },
      "source": [
        "print(\"들여 쓰기\")\n",
        "\n",
        "money = True\n",
        "if money:\n",
        " print(\"택시를\")\n",
        " print(\"타고\")\n",
        " print(\"가라\")"
      ],
      "execution_count": 27,
      "outputs": [
        {
          "output_type": "stream",
          "text": [
            "들여 쓰기\n",
            "택시를\n",
            "타고\n",
            "가라\n"
          ],
          "name": "stdout"
        }
      ]
    },
    {
      "cell_type": "code",
      "metadata": {
        "id": "xIzB3646ICPz",
        "colab_type": "code",
        "colab": {
          "base_uri": "https://localhost:8080/",
          "height": 71
        },
        "outputId": "ea257c9f-3591-4496-a7fa-ec3d73b7ab7b"
      },
      "source": [
        "money = True\n",
        "if money:\n",
        " print(\"택시를\")\n",
        " print(\"타고\")\n",
        " print(\"가라\")"
      ],
      "execution_count": 26,
      "outputs": [
        {
          "output_type": "stream",
          "text": [
            "택시를\n",
            "타고\n",
            "가라\n"
          ],
          "name": "stdout"
        }
      ]
    },
    {
      "cell_type": "markdown",
      "metadata": {
        "id": "TIrAlT25IKcZ",
        "colab_type": "text"
      },
      "source": [
        "##비교연산자"
      ]
    },
    {
      "cell_type": "code",
      "metadata": {
        "id": "7asik-l8IMOK",
        "colab_type": "code",
        "colab": {
          "base_uri": "https://localhost:8080/",
          "height": 35
        },
        "outputId": "ad0a47df-b66e-41e7-93f6-ac88cde2b71a"
      },
      "source": [
        "x=3\n",
        "y=2\n",
        "x>y\n",
        "\n"
      ],
      "execution_count": 7,
      "outputs": [
        {
          "output_type": "execute_result",
          "data": {
            "text/plain": [
              "True"
            ]
          },
          "metadata": {
            "tags": []
          },
          "execution_count": 7
        }
      ]
    },
    {
      "cell_type": "code",
      "metadata": {
        "id": "sHIahHI9IO_B",
        "colab_type": "code",
        "colab": {
          "base_uri": "https://localhost:8080/",
          "height": 35
        },
        "outputId": "e59f2df5-5f44-4c8d-e8ea-f70f2d3a86f9"
      },
      "source": [
        "x<y\n",
        "x==y\n",
        "x!=y"
      ],
      "execution_count": 8,
      "outputs": [
        {
          "output_type": "execute_result",
          "data": {
            "text/plain": [
              "True"
            ]
          },
          "metadata": {
            "tags": []
          },
          "execution_count": 8
        }
      ]
    },
    {
      "cell_type": "markdown",
      "metadata": {
        "id": "7fQbVLXlIQXh",
        "colab_type": "text"
      },
      "source": [
        "##조건식 만들기"
      ]
    },
    {
      "cell_type": "code",
      "metadata": {
        "id": "W8IZuxY_IURR",
        "colab_type": "code",
        "colab": {
          "base_uri": "https://localhost:8080/",
          "height": 35
        },
        "outputId": "c189d372-d37d-4976-a2d4-a6a85033f98d"
      },
      "source": [
        "money = 2000\n",
        "if money >= 3000:\n",
        "    print(\"택시를 타고 가라\")\n",
        "else:\n",
        "    print(\"걸어가라\")"
      ],
      "execution_count": 9,
      "outputs": [
        {
          "output_type": "stream",
          "text": [
            "걸어가라\n"
          ],
          "name": "stdout"
        }
      ]
    },
    {
      "cell_type": "markdown",
      "metadata": {
        "id": "3q3eHwgUIXyx",
        "colab_type": "text"
      },
      "source": [
        "\n",
        "## 복합 조건식: or, and, not\n",
        "###################################\n",
        " 연산자\t설명\n",
        " x or y  :\tx와 y 둘중에 하나만 참이면 참이다\n",
        " x and y :\tx와 y 모두 참이어야 참이다\n",
        " not x\t  : x가 거짓이면 참이다\n",
        "###################################\n",
        " or 복합 조건식 이용\n",
        " \"돈이 3000원 이상 있거나 카드가 있다면 택시를 타고 그렇지 않으면 걸어 가라.\""
      ]
    },
    {
      "cell_type": "code",
      "metadata": {
        "id": "GwHT4KJaIdXZ",
        "colab_type": "code",
        "colab": {
          "base_uri": "https://localhost:8080/",
          "height": 35
        },
        "outputId": "7cadfa08-1706-4e06-d817-e9a301a801b5"
      },
      "source": [
        "money = 2000\n",
        "card = True\n",
        "if money >= 3000 or card:\n",
        "    print(\"택시를 타고 가라\")\n",
        "else:\n",
        "    print(\"걸어가라\")"
      ],
      "execution_count": 10,
      "outputs": [
        {
          "output_type": "stream",
          "text": [
            "택시를 타고 가라\n"
          ],
          "name": "stdout"
        }
      ]
    },
    {
      "cell_type": "code",
      "metadata": {
        "id": "1YRh2zz1IgBC",
        "colab_type": "code",
        "colab": {}
      },
      "source": [
        ""
      ],
      "execution_count": 0,
      "outputs": []
    },
    {
      "cell_type": "markdown",
      "metadata": {
        "id": "jP29GMJOIg_p",
        "colab_type": "text"
      },
      "source": [
        "\n",
        "## 조건식: in, not in\n",
        "\n",
        "   in\t          not in\n",
        " x in 리스트\tx not in 리스트\n",
        " x in 튜플\t    x not in 튜플\n",
        " x in 문자열\tx not in 문자열\n"
      ]
    },
    {
      "cell_type": "code",
      "metadata": {
        "id": "39ULh0FFIpnp",
        "colab_type": "code",
        "colab": {
          "base_uri": "https://localhost:8080/",
          "height": 35
        },
        "outputId": "04c364c3-4bd1-4305-96d4-8d7612fe9d01"
      },
      "source": [
        "# list\n",
        "1 in [1, 2, 3]\n",
        "1 not in [1, 2, 3]\n",
        "# tuple\n",
        "'a' in ('a', 'b', 'c')\n",
        "# string\n",
        "'j' not in 'python'"
      ],
      "execution_count": 11,
      "outputs": [
        {
          "output_type": "execute_result",
          "data": {
            "text/plain": [
              "True"
            ]
          },
          "metadata": {
            "tags": []
          },
          "execution_count": 11
        }
      ]
    },
    {
      "cell_type": "code",
      "metadata": {
        "id": "T7zWwBEaIvap",
        "colab_type": "code",
        "colab": {}
      },
      "source": [
        "#in을 이용한 코드\n",
        "# \"만약 주머니에 돈이 있으면 택시를 타고, 없으면 걸어 가라.\""
      ],
      "execution_count": 0,
      "outputs": []
    },
    {
      "cell_type": "code",
      "metadata": {
        "id": "5Od6KWC3IyEB",
        "colab_type": "code",
        "colab": {
          "base_uri": "https://localhost:8080/",
          "height": 35
        },
        "outputId": "ef2f3490-a25d-4e92-d414-a1538e600411"
      },
      "source": [
        "pocket = ['paper', 'cellphone', 'money']\n",
        "if 'money' in pocket:\n",
        "    print(\"택시를 타고 가라\")\n",
        "else:\n",
        "    print(\"걸어가라\")"
      ],
      "execution_count": 12,
      "outputs": [
        {
          "output_type": "stream",
          "text": [
            "택시를 타고 가라\n"
          ],
          "name": "stdout"
        }
      ]
    },
    {
      "cell_type": "markdown",
      "metadata": {
        "id": "Bpf8EzOdI653",
        "colab_type": "text"
      },
      "source": [
        "##조건식 pass"
      ]
    },
    {
      "cell_type": "code",
      "metadata": {
        "id": "u5h-9ySCI8_h",
        "colab_type": "code",
        "colab": {
          "base_uri": "https://localhost:8080/",
          "height": 35
        },
        "outputId": "b1bdcd13-3632-4bcb-d14e-44546293ddad"
      },
      "source": [
        "pocket = ['paper', 'cellphone', 'money']\n",
        "if 'money' in pocket:\n",
        "    print(\"택시를 타고 가라\")\n",
        "    pass\n",
        "else:\n",
        "    print(\"걸어가라\")\n",
        "    "
      ],
      "execution_count": 17,
      "outputs": [
        {
          "output_type": "stream",
          "text": [
            "택시를 타고 가라\n"
          ],
          "name": "stdout"
        }
      ]
    },
    {
      "cell_type": "markdown",
      "metadata": {
        "id": "W3W4RqIYJl7T",
        "colab_type": "text"
      },
      "source": [
        "##다중 조건식"
      ]
    },
    {
      "cell_type": "code",
      "metadata": {
        "id": "2xWe7E6DJnvh",
        "colab_type": "code",
        "colab": {
          "base_uri": "https://localhost:8080/",
          "height": 35
        },
        "outputId": "604ad9d7-9e09-4a70-bf3b-0c3134d50ceb"
      },
      "source": [
        "pocket = ['paper', 'handphone']\n",
        "card = True\n",
        "if 'money' in pocket:\n",
        "    print(\"택시를 타고가라\")\n",
        "else:\n",
        "    if card:\n",
        "        print(\"택시를 타고가라\")\n",
        "    else:\n",
        "        print(\"걸어가라\")"
      ],
      "execution_count": 18,
      "outputs": [
        {
          "output_type": "stream",
          "text": [
            "택시를 타고가라\n"
          ],
          "name": "stdout"
        }
      ]
    },
    {
      "cell_type": "markdown",
      "metadata": {
        "id": "eZnDdMn4JqO5",
        "colab_type": "text"
      },
      "source": [
        "##elif 를 이용한 코드\n",
        "(더 직관적인코드)"
      ]
    },
    {
      "cell_type": "code",
      "metadata": {
        "id": "oXOK-kV2Jtwz",
        "colab_type": "code",
        "colab": {
          "base_uri": "https://localhost:8080/",
          "height": 35
        },
        "outputId": "59caee0f-1ba4-4757-d9a7-95e62e93d22c"
      },
      "source": [
        "\n",
        "pocket = ['paper', 'handphone']\n",
        "card = True\n",
        "if 'money' in pocket:\n",
        "    print(\"택시를 타고가라\")\n",
        "elif card:\n",
        "    print(\"택시를 타고가라\")\n",
        "else:\n",
        "    print(\"걸어가라\")"
      ],
      "execution_count": 19,
      "outputs": [
        {
          "output_type": "stream",
          "text": [
            "택시를 타고가라\n"
          ],
          "name": "stdout"
        }
      ]
    },
    {
      "cell_type": "markdown",
      "metadata": {
        "id": "fJDmVzUMJwkC",
        "colab_type": "text"
      },
      "source": [
        "##if문을 한 줄로 작성"
      ]
    },
    {
      "cell_type": "code",
      "metadata": {
        "id": "7L_3sUMvJzQx",
        "colab_type": "code",
        "colab": {}
      },
      "source": [
        "##아래의 코드를 한줄로 바꿀것\n",
        "pocket = ['paper', 'cellphone', 'money']\n",
        "if 'money' in pocket:\n",
        "    pass\n",
        "else:\n",
        "    print(\"카드를 사용해라.\")\n",
        "\n"
      ],
      "execution_count": 0,
      "outputs": []
    },
    {
      "cell_type": "code",
      "metadata": {
        "id": "-I2e2ekzJ6Hr",
        "colab_type": "code",
        "colab": {}
      },
      "source": [
        "##한줄로 바꾸어진 코드\n",
        "pocket = ['paper', 'cellphone', 'money']\n",
        "if 'money' in pocket: pass\n",
        "else: print(\"카드를 사용해라.\")"
      ],
      "execution_count": 0,
      "outputs": []
    },
    {
      "cell_type": "markdown",
      "metadata": {
        "id": "qRMpEKvSKJ5E",
        "colab_type": "text"
      },
      "source": [
        "##조건부 표현식 (conditional expression)\n",
        "조건문이 참인 경우 if 조건문 else 조건문이 거짓인 경우"
      ]
    },
    {
      "cell_type": "code",
      "metadata": {
        "id": "_RD3i5AAKHUx",
        "colab_type": "code",
        "colab": {
          "base_uri": "https://localhost:8080/",
          "height": 35
        },
        "outputId": "64c3d9cd-0975-4da8-ef97-2cb6a47b6b89"
      },
      "source": [
        "score=80\n",
        "if score >= 60:\n",
        "    message = \"success\"\n",
        "else:\n",
        "    message = \"failure\"\n",
        "\n",
        "print(message)"
      ],
      "execution_count": 24,
      "outputs": [
        {
          "output_type": "stream",
          "text": [
            "success\n"
          ],
          "name": "stdout"
        }
      ]
    },
    {
      "cell_type": "markdown",
      "metadata": {
        "id": "Z_aCJNViKNVh",
        "colab_type": "text"
      },
      "source": [
        "##한줄코드"
      ]
    },
    {
      "cell_type": "code",
      "metadata": {
        "id": "cbts_XcoKPAg",
        "colab_type": "code",
        "colab": {
          "base_uri": "https://localhost:8080/",
          "height": 35
        },
        "outputId": "98e6eeee-a3c1-4033-8798-fe63ebcac18a"
      },
      "source": [
        "message = \"success\" if score >= 60 else \"failure\"\n",
        "print(message)"
      ],
      "execution_count": 25,
      "outputs": [
        {
          "output_type": "stream",
          "text": [
            "success\n"
          ],
          "name": "stdout"
        }
      ]
    }
  ]
}