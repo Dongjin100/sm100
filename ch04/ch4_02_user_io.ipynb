{
  "nbformat": 4,
  "nbformat_minor": 0,
  "metadata": {
    "colab": {
      "name": "ch4_02_user_io.ipynb",
      "provenance": [],
      "collapsed_sections": [],
      "include_colab_link": true
    },
    "kernelspec": {
      "name": "python2",
      "display_name": "Python 2"
    }
  },
  "cells": [
    {
      "cell_type": "markdown",
      "metadata": {
        "id": "view-in-github",
        "colab_type": "text"
      },
      "source": [
        "<a href=\"https://colab.research.google.com/github/Dongjin100/sm100/blob/master/ch04/ch4_02_user_io.ipynb\" target=\"_parent\"><img src=\"https://colab.research.google.com/assets/colab-badge.svg\" alt=\"Open In Colab\"/></a>"
      ]
    },
    {
      "cell_type": "markdown",
      "metadata": {
        "id": "SNBMZRiPb1iQ",
        "colab_type": "text"
      },
      "source": [
        "##사용자 입력과 출력"
      ]
    },
    {
      "cell_type": "markdown",
      "metadata": {
        "id": "8v06k7r_b6IY",
        "colab_type": "text"
      },
      "source": [
        "## input사용"
      ]
    },
    {
      "cell_type": "code",
      "metadata": {
        "id": "9-9T_NZ8bvsr",
        "colab_type": "code",
        "colab": {
          "base_uri": "https://localhost:8080/",
          "height": 53
        },
        "outputId": "dc5b1648-d454-4224-becc-4f66d64921ec"
      },
      "source": [
        "a = input()\n",
        "print(a)"
      ],
      "execution_count": 4,
      "outputs": [
        {
          "output_type": "stream",
          "text": [
            "1\n",
            "1\n"
          ],
          "name": "stdout"
        }
      ]
    },
    {
      "cell_type": "code",
      "metadata": {
        "id": "SUNH0gxucKuv",
        "colab_type": "code",
        "colab": {
          "base_uri": "https://localhost:8080/",
          "height": 53
        },
        "outputId": "e08e1e03-706d-41fd-ff6a-712d5a32ccdc"
      },
      "source": [
        "number = input(\"숫자를 입력하세요: \")\n",
        "\n",
        "print(number)"
      ],
      "execution_count": 3,
      "outputs": [
        {
          "output_type": "stream",
          "text": [
            "숫자를 입력하세요: 1\n",
            "1\n"
          ],
          "name": "stdout"
        }
      ]
    },
    {
      "cell_type": "code",
      "metadata": {
        "id": "rx5L28xWcPYW",
        "colab_type": "code",
        "colab": {
          "base_uri": "https://localhost:8080/",
          "height": 35
        },
        "outputId": "aa55df5e-d0a4-4646-f3c0-d918e5f17d3b"
      },
      "source": [
        "a = 123\n",
        "print(a)"
      ],
      "execution_count": 5,
      "outputs": [
        {
          "output_type": "stream",
          "text": [
            "123\n"
          ],
          "name": "stdout"
        }
      ]
    },
    {
      "cell_type": "code",
      "metadata": {
        "id": "iT9E9lWfcQw_",
        "colab_type": "code",
        "colab": {
          "base_uri": "https://localhost:8080/",
          "height": 35
        },
        "outputId": "40735214-8e14-4564-fcc6-c1b351156e24"
      },
      "source": [
        "a = \"Python\"\n",
        "print(a)\n"
      ],
      "execution_count": 6,
      "outputs": [
        {
          "output_type": "stream",
          "text": [
            "Python\n"
          ],
          "name": "stdout"
        }
      ]
    },
    {
      "cell_type": "code",
      "metadata": {
        "id": "Z3Y4iE5DcRwn",
        "colab_type": "code",
        "colab": {
          "base_uri": "https://localhost:8080/",
          "height": 35
        },
        "outputId": "300d77eb-f0b6-48a8-e463-8296b9eb9fd3"
      },
      "source": [
        "a = [1, 2, 3]\n",
        "print(a)"
      ],
      "execution_count": 7,
      "outputs": [
        {
          "output_type": "stream",
          "text": [
            "[1, 2, 3]\n"
          ],
          "name": "stdout"
        }
      ]
    },
    {
      "cell_type": "markdown",
      "metadata": {
        "id": "MucXtNBtcVbv",
        "colab_type": "text"
      },
      "source": [
        "##큰따옴표(\\\")로 둘러싸인 문자열은 + 연산과 동일"
      ]
    },
    {
      "cell_type": "code",
      "metadata": {
        "id": "e2NTrwedcX3_",
        "colab_type": "code",
        "colab": {
          "base_uri": "https://localhost:8080/",
          "height": 35
        },
        "outputId": "dbd200e1-fdee-46ff-a43a-a9750fb0a77e"
      },
      "source": [
        "print(\"life\" \"is\" \"too short\")\n"
      ],
      "execution_count": 8,
      "outputs": [
        {
          "output_type": "stream",
          "text": [
            "lifeistoo short\n"
          ],
          "name": "stdout"
        }
      ]
    },
    {
      "cell_type": "code",
      "metadata": {
        "id": "Dox6Ps5pcZj-",
        "colab_type": "code",
        "colab": {
          "base_uri": "https://localhost:8080/",
          "height": 35
        },
        "outputId": "b3bc8383-5d1c-4c21-ab7f-88cd6b800a93"
      },
      "source": [
        "print(\"life\"+\"is\"+\"too short\")"
      ],
      "execution_count": 9,
      "outputs": [
        {
          "output_type": "stream",
          "text": [
            "lifeistoo short\n"
          ],
          "name": "stdout"
        }
      ]
    },
    {
      "cell_type": "markdown",
      "metadata": {
        "id": "JXXkiio1cdY-",
        "colab_type": "text"
      },
      "source": [
        "##문자열 띄어쓰기는 콤마로 한다"
      ]
    },
    {
      "cell_type": "code",
      "metadata": {
        "id": "70myUgoncfF2",
        "colab_type": "code",
        "colab": {
          "base_uri": "https://localhost:8080/",
          "height": 35
        },
        "outputId": "1256fba3-988f-48c0-fb24-07708aab5b47"
      },
      "source": [
        "print(\"life\", \"is\", \"too short\")"
      ],
      "execution_count": 10,
      "outputs": [
        {
          "output_type": "stream",
          "text": [
            "('life', 'is', 'too short')\n"
          ],
          "name": "stdout"
        }
      ]
    },
    {
      "cell_type": "markdown",
      "metadata": {
        "id": "8jhtYoa1cgi2",
        "colab_type": "text"
      },
      "source": [
        "##한 줄에 결괏값 출력하기"
      ]
    },
    {
      "cell_type": "code",
      "metadata": {
        "id": "Zx46n4pvciLG",
        "colab_type": "code",
        "colab": {
          "base_uri": "https://localhost:8080/",
          "height": 35
        },
        "outputId": "cc23b918-04b8-43ea-f6d5-21add1f3da1b"
      },
      "source": [
        "print(\"life\", \"is\", \"too short\")"
      ],
      "execution_count": 11,
      "outputs": [
        {
          "output_type": "stream",
          "text": [
            "('life', 'is', 'too short')\n"
          ],
          "name": "stdout"
        }
      ]
    },
    {
      "cell_type": "markdown",
      "metadata": {
        "id": "H6TmXE-0cjqf",
        "colab_type": "text"
      },
      "source": [
        "##한 줄에 결괏값 출력하기"
      ]
    },
    {
      "cell_type": "code",
      "metadata": {
        "id": "8QgDfNgfuH1i",
        "colab_type": "code",
        "colab": {
          "base_uri": "https://localhost:8080/",
          "height": 136
        },
        "outputId": "3ffe4e87-1b2c-4309-ba42-2b61ad1cedef"
      },
      "source": [
        "for i in range(10):\n",
        "   print(i, end='') ##코드가 맞지만 결과값이 나오지않습니다"
      ],
      "execution_count": 41,
      "outputs": [
        {
          "output_type": "error",
          "ename": "SyntaxError",
          "evalue": "ignored",
          "traceback": [
            "\u001b[0;36m  File \u001b[0;32m\"<ipython-input-41-cf56944d1cf4>\"\u001b[0;36m, line \u001b[0;32m2\u001b[0m\n\u001b[0;31m    print(i, end='')\u001b[0m\n\u001b[0m                ^\u001b[0m\n\u001b[0;31mSyntaxError\u001b[0m\u001b[0;31m:\u001b[0m invalid syntax\n"
          ]
        }
      ]
    }
  ]
}