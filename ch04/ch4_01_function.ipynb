{
  "nbformat": 4,
  "nbformat_minor": 0,
  "metadata": {
    "colab": {
      "name": "ch4_01_function.ipynb",
      "provenance": [],
      "collapsed_sections": [],
      "include_colab_link": true
    },
    "kernelspec": {
      "name": "python2",
      "display_name": "Python 2"
    }
  },
  "cells": [
    {
      "cell_type": "markdown",
      "metadata": {
        "id": "view-in-github",
        "colab_type": "text"
      },
      "source": [
        "<a href=\"https://colab.research.google.com/github/Dongjin100/sm100/blob/master/ch04/ch4_01_function.ipynb\" target=\"_parent\"><img src=\"https://colab.research.google.com/assets/colab-badge.svg\" alt=\"Open In Colab\"/></a>"
      ]
    },
    {
      "cell_type": "markdown",
      "metadata": {
        "id": "Sgy84kBQP7Qq",
        "colab_type": "text"
      },
      "source": [
        "##함수 "
      ]
    },
    {
      "cell_type": "markdown",
      "metadata": {
        "id": "shzbZrLdQDu6",
        "colab_type": "text"
      },
      "source": [
        "##함수 사용하는 이유?\n",
        "\n",
        "반복되는 부분을 함수로 전환.\n",
        "코딩을 모듈화\n"
      ]
    },
    {
      "cell_type": "code",
      "metadata": {
        "id": "fK6WDo-GQABq",
        "colab_type": "code",
        "colab": {}
      },
      "source": [
        "##def 함수명(매개변수):\n",
        " ##   <수행할 문장1>\n",
        " ##   <수행할 문장2>"
      ],
      "execution_count": 0,
      "outputs": []
    },
    {
      "cell_type": "code",
      "metadata": {
        "id": "g1qe8jLvQCb6",
        "colab_type": "code",
        "colab": {
          "base_uri": "https://localhost:8080/",
          "height": 35
        },
        "outputId": "47aa2e33-f29e-4f68-a929-c3c3233750fa"
      },
      "source": [
        "def add(a, b): \n",
        "    return a + b\n",
        "a=3\n",
        "b=4\n",
        "c=add(a,b)\n",
        "print(c)"
      ],
      "execution_count": 2,
      "outputs": [
        {
          "output_type": "stream",
          "text": [
            "7\n"
          ],
          "name": "stdout"
        }
      ]
    },
    {
      "cell_type": "code",
      "metadata": {
        "id": "4Ov1SMxnPUC4",
        "colab_type": "code",
        "colab": {
          "base_uri": "https://localhost:8080/",
          "height": 35
        },
        "outputId": "844e2075-a225-4b6c-e0ec-79ad05a1d39d"
      },
      "source": [
        "x=[1,2,3]\n",
        "y=[4,5,6]\n",
        "z=x+y\n",
        "print(z)"
      ],
      "execution_count": 3,
      "outputs": [
        {
          "output_type": "stream",
          "text": [
            "[1, 2, 3, 4, 5, 6]\n"
          ],
          "name": "stdout"
        }
      ]
    },
    {
      "cell_type": "markdown",
      "metadata": {
        "id": "pMR-15RhQaVA",
        "colab_type": "text"
      },
      "source": [
        ""
      ]
    },
    {
      "cell_type": "markdown",
      "metadata": {
        "id": "yp6-ZIVaQbcY",
        "colab_type": "text"
      },
      "source": [
        "##매개변수와 인수를 차이를 이해하자"
      ]
    },
    {
      "cell_type": "code",
      "metadata": {
        "id": "P8CcH9kBQgWw",
        "colab_type": "code",
        "colab": {}
      },
      "source": [
        "##def add(a, b):  # a, b는 매개변수\n",
        "##    return a+b\n",
        "\n",
        "##print(add(3, 4))  # 3, 4는 인수"
      ],
      "execution_count": 0,
      "outputs": []
    },
    {
      "cell_type": "markdown",
      "metadata": {
        "id": "1pHoDKn0QpJx",
        "colab_type": "text"
      },
      "source": [
        "##입력값과 결괏값에 따른 함수의 형태"
      ]
    },
    {
      "cell_type": "code",
      "metadata": {
        "id": "hSgzhtSuQrhx",
        "colab_type": "code",
        "colab": {}
      },
      "source": [
        "##def 함수이름(매개변수):\n",
        "##    <수행할 문장>\n",
        "    ...\n",
        "##    return 결과값"
      ],
      "execution_count": 0,
      "outputs": []
    },
    {
      "cell_type": "code",
      "metadata": {
        "id": "IL2d-fSeQv2Z",
        "colab_type": "code",
        "colab": {
          "base_uri": "https://localhost:8080/",
          "height": 35
        },
        "outputId": "ab09cfd4-0f03-4a72-ffc3-cb2cb9ff24b7"
      },
      "source": [
        "def add2(a, b): \n",
        "    result = a + b \n",
        "    return result\n",
        "a = add2(3, 4)\n",
        "print(a)"
      ],
      "execution_count": 6,
      "outputs": [
        {
          "output_type": "stream",
          "text": [
            "7\n"
          ],
          "name": "stdout"
        }
      ]
    },
    {
      "cell_type": "markdown",
      "metadata": {
        "id": "lvq7qSwLQ-Z5",
        "colab_type": "text"
      },
      "source": [
        "##입력값이 없는 함수"
      ]
    },
    {
      "cell_type": "code",
      "metadata": {
        "id": "sUiwKj-3Q7Dh",
        "colab_type": "code",
        "colab": {
          "base_uri": "https://localhost:8080/",
          "height": 35
        },
        "outputId": "9eaaadeb-71a8-47d2-a241-5a089ecb30f7"
      },
      "source": [
        "def say(): \n",
        "    return 'Hi'\n",
        "\n",
        "\n",
        "\n",
        "a = say()\n",
        "print(a)"
      ],
      "execution_count": 7,
      "outputs": [
        {
          "output_type": "stream",
          "text": [
            "Hi\n"
          ],
          "name": "stdout"
        }
      ]
    },
    {
      "cell_type": "markdown",
      "metadata": {
        "id": "Z48gW4yeRBkY",
        "colab_type": "text"
      },
      "source": [
        "##결과 값이 없는 함수"
      ]
    },
    {
      "cell_type": "code",
      "metadata": {
        "id": "irCwoQTsRFsI",
        "colab_type": "code",
        "colab": {}
      },
      "source": [
        "def add3(a, b): \n",
        "  print(\"%d, %d의 합은 %d입니다.\" % (a, b, a+b))"
      ],
      "execution_count": 0,
      "outputs": []
    },
    {
      "cell_type": "code",
      "metadata": {
        "id": "Xhj5TZOoRYj4",
        "colab_type": "code",
        "colab": {
          "base_uri": "https://localhost:8080/",
          "height": 35
        },
        "outputId": "c5ab3ea0-ff52-4b88-a94d-e40c7af0633c"
      },
      "source": [
        "add3(3, 4)\n"
      ],
      "execution_count": 12,
      "outputs": [
        {
          "output_type": "stream",
          "text": [
            "3, 4의 합은 7입니다.\n"
          ],
          "name": "stdout"
        }
      ]
    },
    {
      "cell_type": "code",
      "metadata": {
        "id": "Dtg1-gsiRbbg",
        "colab_type": "code",
        "colab": {
          "base_uri": "https://localhost:8080/",
          "height": 53
        },
        "outputId": "a7b3af88-1b56-4634-979a-b0f8e45ff03e"
      },
      "source": [
        "a = add3(3, 4)\n",
        "print(a)"
      ],
      "execution_count": 13,
      "outputs": [
        {
          "output_type": "stream",
          "text": [
            "3, 4의 합은 7입니다.\n",
            "None\n"
          ],
          "name": "stdout"
        }
      ]
    },
    {
      "cell_type": "code",
      "metadata": {
        "id": "i-AZwgFvR6on",
        "colab_type": "code",
        "colab": {
          "base_uri": "https://localhost:8080/",
          "height": 35
        },
        "outputId": "8084c430-fc84-4a6b-fd93-31c1bc07bb09"
      },
      "source": [
        "def say2(): \n",
        "    print('Hi')\n",
        "say()"
      ],
      "execution_count": 17,
      "outputs": [
        {
          "output_type": "execute_result",
          "data": {
            "text/plain": [
              "'Hi'"
            ]
          },
          "metadata": {
            "tags": []
          },
          "execution_count": 17
        }
      ]
    },
    {
      "cell_type": "markdown",
      "metadata": {
        "id": "wiyx8QBfSA2m",
        "colab_type": "text"
      },
      "source": [
        "##매개변수의 값을 지정하여 호출"
      ]
    },
    {
      "cell_type": "code",
      "metadata": {
        "id": "kPbJQnYcSFNe",
        "colab_type": "code",
        "colab": {}
      },
      "source": [
        "def add4(a, b):\n",
        "    return a+b"
      ],
      "execution_count": 0,
      "outputs": []
    },
    {
      "cell_type": "code",
      "metadata": {
        "id": "Kwhqt_o1ScOH",
        "colab_type": "code",
        "colab": {
          "base_uri": "https://localhost:8080/",
          "height": 35
        },
        "outputId": "38c1add0-7004-48f7-825f-329c46528859"
      },
      "source": [
        "result = add4(a=3, b=7)\n",
        "print(result)"
      ],
      "execution_count": 25,
      "outputs": [
        {
          "output_type": "stream",
          "text": [
            "10\n"
          ],
          "name": "stdout"
        }
      ]
    },
    {
      "cell_type": "markdown",
      "metadata": {
        "id": "srADl-Y6S71O",
        "colab_type": "text"
      },
      "source": [
        "##입력값이 몇 개가 될지 모를 때는 어떻게 해야 할까?"
      ]
    },
    {
      "cell_type": "code",
      "metadata": {
        "id": "LkY68CcCS-Nu",
        "colab_type": "code",
        "colab": {}
      },
      "source": [
        "def add_many(*args):\n",
        "    result = 0 \n",
        "    for i in args: \n",
        "        result = result + i \n",
        "    return result "
      ],
      "execution_count": 0,
      "outputs": []
    },
    {
      "cell_type": "code",
      "metadata": {
        "id": "8EN3vE6RTAWO",
        "colab_type": "code",
        "colab": {
          "base_uri": "https://localhost:8080/",
          "height": 35
        },
        "outputId": "45fc4821-8a10-482a-d338-08661a47369c"
      },
      "source": [
        "add_many(1, 2, 3)\n"
      ],
      "execution_count": 28,
      "outputs": [
        {
          "output_type": "execute_result",
          "data": {
            "text/plain": [
              "6"
            ]
          },
          "metadata": {
            "tags": []
          },
          "execution_count": 28
        }
      ]
    },
    {
      "cell_type": "code",
      "metadata": {
        "id": "nXWj-BvPTh1V",
        "colab_type": "code",
        "colab": {
          "base_uri": "https://localhost:8080/",
          "height": 35
        },
        "outputId": "76ab6701-3be3-49b2-be49-1d3bc4ec1780"
      },
      "source": [
        "add_many(1, 2, 3, 4, 5, 6, 7, 8, 9)\n",
        "\n"
      ],
      "execution_count": 29,
      "outputs": [
        {
          "output_type": "execute_result",
          "data": {
            "text/plain": [
              "45"
            ]
          },
          "metadata": {
            "tags": []
          },
          "execution_count": 29
        }
      ]
    },
    {
      "cell_type": "code",
      "metadata": {
        "id": "GDWm9Ar-TjLW",
        "colab_type": "code",
        "colab": {
          "base_uri": "https://localhost:8080/",
          "height": 35
        },
        "outputId": "0fe1e472-af2d-4e81-9ad1-cc86892b44ee"
      },
      "source": [
        "result = add_many(1,2,3,4,5,6,7,8,9,10)\n",
        "print(result)"
      ],
      "execution_count": 30,
      "outputs": [
        {
          "output_type": "stream",
          "text": [
            "55\n"
          ],
          "name": "stdout"
        }
      ]
    },
    {
      "cell_type": "markdown",
      "metadata": {
        "id": "1FiQUDe_Twkl",
        "colab_type": "text"
      },
      "source": [
        "##여러개의 입력을 처리하는 함수 args"
      ]
    },
    {
      "cell_type": "code",
      "metadata": {
        "id": "hzyE9uTAT0_F",
        "colab_type": "code",
        "colab": {}
      },
      "source": [
        "def add_mul(choice, *args):\n",
        "    if choice == \"add\":\n",
        "        result = 0 \n",
        "        for i in args:\n",
        "            result = result + i \n",
        "    elif choice == \"mul\":\n",
        "        result = 1 \n",
        "        for i in args: \n",
        "            result = result * i \n",
        "    return result \n"
      ],
      "execution_count": 0,
      "outputs": []
    },
    {
      "cell_type": "code",
      "metadata": {
        "id": "A2RtqArnT3HF",
        "colab_type": "code",
        "colab": {
          "base_uri": "https://localhost:8080/",
          "height": 35
        },
        "outputId": "c738c74f-a7dc-4ad8-df73-ea0e15d0f9f1"
      },
      "source": [
        "result = add_mul('add', 1,2,3,4,5)\n",
        "print(result)"
      ],
      "execution_count": 32,
      "outputs": [
        {
          "output_type": "stream",
          "text": [
            "15\n"
          ],
          "name": "stdout"
        }
      ]
    },
    {
      "cell_type": "code",
      "metadata": {
        "id": "7oJYxwPnT4gk",
        "colab_type": "code",
        "colab": {
          "base_uri": "https://localhost:8080/",
          "height": 35
        },
        "outputId": "6bc444d2-770e-4af9-d961-9b69f3ec55aa"
      },
      "source": [
        "result = add_mul('mul', 1,2,3,4,5)\n",
        "print(result)"
      ],
      "execution_count": 33,
      "outputs": [
        {
          "output_type": "stream",
          "text": [
            "120\n"
          ],
          "name": "stdout"
        }
      ]
    },
    {
      "cell_type": "markdown",
      "metadata": {
        "id": "h0IKuz8NUJF8",
        "colab_type": "text"
      },
      "source": [
        "##키워드 파라미터"
      ]
    },
    {
      "cell_type": "code",
      "metadata": {
        "id": "dod1CjYvUL_1",
        "colab_type": "code",
        "colab": {}
      },
      "source": [
        "def print_kwargs(**kwargs):\n",
        "    print(kwargs)"
      ],
      "execution_count": 0,
      "outputs": []
    },
    {
      "cell_type": "code",
      "metadata": {
        "id": "GeLB00BTUPi0",
        "colab_type": "code",
        "colab": {
          "base_uri": "https://localhost:8080/",
          "height": 35
        },
        "outputId": "278b913b-3c92-48f7-fc6d-a56f5d5e7e1c"
      },
      "source": [
        "print_kwargs(a=1)"
      ],
      "execution_count": 35,
      "outputs": [
        {
          "output_type": "stream",
          "text": [
            "{'a': 1}\n"
          ],
          "name": "stdout"
        }
      ]
    },
    {
      "cell_type": "code",
      "metadata": {
        "id": "UI5lhVZWURCs",
        "colab_type": "code",
        "colab": {
          "base_uri": "https://localhost:8080/",
          "height": 35
        },
        "outputId": "82ffc892-c112-4790-9ae3-976ad6bfe9dd"
      },
      "source": [
        "print_kwargs(name='foo', age=3)"
      ],
      "execution_count": 36,
      "outputs": [
        {
          "output_type": "stream",
          "text": [
            "{'age': 3, 'name': 'foo'}\n"
          ],
          "name": "stdout"
        }
      ]
    },
    {
      "cell_type": "markdown",
      "metadata": {
        "id": "P646PkijUiMc",
        "colab_type": "text"
      },
      "source": [
        "##함수의 결과값은 언제나 하나"
      ]
    },
    {
      "cell_type": "code",
      "metadata": {
        "id": "XbuV8E2gUktE",
        "colab_type": "code",
        "colab": {}
      },
      "source": [
        "def add_and_mul(a,b): \n",
        "    return a+b, a*b"
      ],
      "execution_count": 0,
      "outputs": []
    },
    {
      "cell_type": "code",
      "metadata": {
        "id": "cvqF_f2cUn4k",
        "colab_type": "code",
        "colab": {}
      },
      "source": [
        "result = add_and_mul(3,4)"
      ],
      "execution_count": 0,
      "outputs": []
    },
    {
      "cell_type": "code",
      "metadata": {
        "id": "2Zx6s7VeUpc7",
        "colab_type": "code",
        "colab": {
          "base_uri": "https://localhost:8080/",
          "height": 35
        },
        "outputId": "7218ccff-24e0-41b6-86e9-d8376ed13063"
      },
      "source": [
        "print(result)"
      ],
      "execution_count": 39,
      "outputs": [
        {
          "output_type": "stream",
          "text": [
            "(7, 12)\n"
          ],
          "name": "stdout"
        }
      ]
    },
    {
      "cell_type": "code",
      "metadata": {
        "id": "2jAGRX22U2ws",
        "colab_type": "code",
        "colab": {}
      },
      "source": [
        "result1, result2 = add_and_mul(3, 4)\n"
      ],
      "execution_count": 0,
      "outputs": []
    },
    {
      "cell_type": "code",
      "metadata": {
        "id": "7ZeeUHHFU7Ys",
        "colab_type": "code",
        "colab": {
          "base_uri": "https://localhost:8080/",
          "height": 35
        },
        "outputId": "6a4bab9d-768d-4126-ea5a-620ecd24876a"
      },
      "source": [
        "result1, result2"
      ],
      "execution_count": 42,
      "outputs": [
        {
          "output_type": "execute_result",
          "data": {
            "text/plain": [
              "(7, 12)"
            ]
          },
          "metadata": {
            "tags": []
          },
          "execution_count": 42
        }
      ]
    },
    {
      "cell_type": "markdown",
      "metadata": {
        "id": "JslbBWylVCD7",
        "colab_type": "text"
      },
      "source": [
        "##잘못된 함수"
      ]
    },
    {
      "cell_type": "code",
      "metadata": {
        "id": "zGvbP1p_VE0D",
        "colab_type": "code",
        "colab": {}
      },
      "source": [
        "def add_and_mul2(a,b): \n",
        "    return a+b \n",
        "    return a*b ##활동하지않는 함수"
      ],
      "execution_count": 0,
      "outputs": []
    },
    {
      "cell_type": "code",
      "metadata": {
        "id": "-e7tox2JVGbb",
        "colab_type": "code",
        "colab": {
          "base_uri": "https://localhost:8080/",
          "height": 35
        },
        "outputId": "1ae2671c-c64d-44ca-a77a-cc9192920d14"
      },
      "source": [
        "result = add_and_mul2(2, 3)\n",
        "print(result)"
      ],
      "execution_count": 46,
      "outputs": [
        {
          "output_type": "stream",
          "text": [
            "5\n"
          ],
          "name": "stdout"
        }
      ]
    },
    {
      "cell_type": "markdown",
      "metadata": {
        "id": "bBqwlyJAVeoq",
        "colab_type": "text"
      },
      "source": [
        "##함수 실행 종료"
      ]
    },
    {
      "cell_type": "code",
      "metadata": {
        "id": "BtUjIGmLVheq",
        "colab_type": "code",
        "colab": {
          "base_uri": "https://localhost:8080/",
          "height": 35
        },
        "outputId": "c0be4ad9-3ca4-49e5-9961-ed87cf1c447b"
      },
      "source": [
        "def say_nick(nick): \n",
        "    if nick == \"바보\": \n",
        "        return \n",
        "    print(\"나의 별명은 %s 입니다.\" % nick)\n",
        "\n",
        "\n",
        "say_nick(\"홍길동\")\n",
        "say_nick(\"바보\")"
      ],
      "execution_count": 47,
      "outputs": [
        {
          "output_type": "stream",
          "text": [
            "나의 별명은 홍길동 입니다.\n"
          ],
          "name": "stdout"
        }
      ]
    },
    {
      "cell_type": "markdown",
      "metadata": {
        "id": "Jl-_HSK9Vl_i",
        "colab_type": "text"
      },
      "source": [
        "##매개변수에 초기값 미리 설정하기"
      ]
    },
    {
      "cell_type": "code",
      "metadata": {
        "id": "jWjdqMzQVp7y",
        "colab_type": "code",
        "colab": {}
      },
      "source": [
        "def say_myself(name, old, man=True): \n",
        "    print(\"나의 이름은 %s 입니다.\" % name) \n",
        "    print(\"나이는 %d살입니다.\" % old) \n",
        "    if man: \n",
        "        print(\"남자입니다.\")\n",
        "    else: \n",
        "        print(\"여자입니다.\")"
      ],
      "execution_count": 0,
      "outputs": []
    },
    {
      "cell_type": "code",
      "metadata": {
        "id": "QrcfMKwRVwJb",
        "colab_type": "code",
        "colab": {
          "base_uri": "https://localhost:8080/",
          "height": 71
        },
        "outputId": "72c48ef2-2113-4abc-e586-325308d32809"
      },
      "source": [
        "say_myself(\"박응용\", 27)"
      ],
      "execution_count": 49,
      "outputs": [
        {
          "output_type": "stream",
          "text": [
            "나의 이름은 박응용 입니다.\n",
            "나이는 27살입니다.\n",
            "남자입니다.\n"
          ],
          "name": "stdout"
        }
      ]
    },
    {
      "cell_type": "code",
      "metadata": {
        "id": "LN0mYEBlVxeT",
        "colab_type": "code",
        "colab": {
          "base_uri": "https://localhost:8080/",
          "height": 71
        },
        "outputId": "992b8a40-11f7-4acd-ef2a-67ef8acd73ee"
      },
      "source": [
        "say_myself(\"박응용\", 27, True)"
      ],
      "execution_count": 50,
      "outputs": [
        {
          "output_type": "stream",
          "text": [
            "나의 이름은 박응용 입니다.\n",
            "나이는 27살입니다.\n",
            "남자입니다.\n"
          ],
          "name": "stdout"
        }
      ]
    },
    {
      "cell_type": "code",
      "metadata": {
        "id": "MiWMsiaxVzdK",
        "colab_type": "code",
        "colab": {
          "base_uri": "https://localhost:8080/",
          "height": 71
        },
        "outputId": "44b3dc8f-48ff-43db-8c63-c9b464f10121"
      },
      "source": [
        "say_myself(\"박응용\", 27, False)"
      ],
      "execution_count": 51,
      "outputs": [
        {
          "output_type": "stream",
          "text": [
            "나의 이름은 박응용 입니다.\n",
            "나이는 27살입니다.\n",
            "여자입니다.\n"
          ],
          "name": "stdout"
        }
      ]
    },
    {
      "cell_type": "markdown",
      "metadata": {
        "id": "u7xtQb49V_rS",
        "colab_type": "text"
      },
      "source": [
        "##함수 안에서 선언한 변수의 효력 범위"
      ]
    },
    {
      "cell_type": "code",
      "metadata": {
        "id": "Zk2zkC2OWE1C",
        "colab_type": "code",
        "colab": {}
      },
      "source": [
        "a = 1\n",
        "def vartest(a):\n",
        "    a = a +1\n"
      ],
      "execution_count": 0,
      "outputs": []
    },
    {
      "cell_type": "code",
      "metadata": {
        "id": "PcP2AYxvWGiq",
        "colab_type": "code",
        "colab": {
          "base_uri": "https://localhost:8080/",
          "height": 35
        },
        "outputId": "d332d850-6000-4fa9-a47e-842b12938946"
      },
      "source": [
        "vartest(a)\n",
        "print(a)"
      ],
      "execution_count": 58,
      "outputs": [
        {
          "output_type": "stream",
          "text": [
            "1\n"
          ],
          "name": "stdout"
        }
      ]
    },
    {
      "cell_type": "code",
      "metadata": {
        "id": "eNfG6ZB9WyqZ",
        "colab_type": "code",
        "colab": {
          "base_uri": "https://localhost:8080/",
          "height": 208
        },
        "outputId": "c172c55a-e114-4edb-b8b6-781be47cfea1"
      },
      "source": [
        "def vartest2(z2):\n",
        "    z2 = z2 + 1\n",
        "vartest(3)   \n",
        "print(z2)"
      ],
      "execution_count": 66,
      "outputs": [
        {
          "output_type": "error",
          "ename": "NameError",
          "evalue": "ignored",
          "traceback": [
            "\u001b[0;31m\u001b[0m",
            "\u001b[0;31mNameError\u001b[0mTraceback (most recent call last)",
            "\u001b[0;32m<ipython-input-66-c6ca411a93b6>\u001b[0m in \u001b[0;36m<module>\u001b[0;34m()\u001b[0m\n\u001b[1;32m      2\u001b[0m     \u001b[0mz2\u001b[0m \u001b[0;34m=\u001b[0m \u001b[0mz2\u001b[0m \u001b[0;34m+\u001b[0m \u001b[0;36m1\u001b[0m\u001b[0;34m\u001b[0m\u001b[0;34m\u001b[0m\u001b[0m\n\u001b[1;32m      3\u001b[0m \u001b[0mvartest\u001b[0m\u001b[0;34m(\u001b[0m\u001b[0;36m3\u001b[0m\u001b[0;34m)\u001b[0m\u001b[0;34m\u001b[0m\u001b[0;34m\u001b[0m\u001b[0m\n\u001b[0;32m----> 4\u001b[0;31m \u001b[0;32mprint\u001b[0m\u001b[0;34m(\u001b[0m\u001b[0mz2\u001b[0m\u001b[0;34m)\u001b[0m\u001b[0;34m\u001b[0m\u001b[0;34m\u001b[0m\u001b[0m\n\u001b[0m",
            "\u001b[0;31mNameError\u001b[0m: name 'z2' is not defined"
          ]
        }
      ]
    },
    {
      "cell_type": "markdown",
      "metadata": {
        "id": "hLdFxvdbXXpx",
        "colab_type": "text"
      },
      "source": [
        "##함수 안에서 밖의 변수를 변경하는 방법"
      ]
    },
    {
      "cell_type": "code",
      "metadata": {
        "id": "Eu4ZQYjvXcTA",
        "colab_type": "code",
        "colab": {
          "base_uri": "https://localhost:8080/",
          "height": 35
        },
        "outputId": "dbf67285-472e-45b3-8864-0f911b87f562"
      },
      "source": [
        "a = 1 \n",
        "def vartest3(a): \n",
        "    a = a +1 \n",
        "    return a\n",
        "\n",
        "a = vartest3(a) \n",
        "print(a)"
      ],
      "execution_count": 67,
      "outputs": [
        {
          "output_type": "stream",
          "text": [
            "2\n"
          ],
          "name": "stdout"
        }
      ]
    },
    {
      "cell_type": "markdown",
      "metadata": {
        "id": "HWD3AQkmXuJf",
        "colab_type": "text"
      },
      "source": [
        "##글로벌 명령어 사용하기"
      ]
    },
    {
      "cell_type": "code",
      "metadata": {
        "id": "iB6d-nmRXyRX",
        "colab_type": "code",
        "colab": {
          "base_uri": "https://localhost:8080/",
          "height": 35
        },
        "outputId": "21b9c006-e64b-4fd7-cef8-b5fa21997e9b"
      },
      "source": [
        "a = 1 \n",
        "def vartest4(): \n",
        "    global a \n",
        "    a = a+1\n",
        "\n",
        "vartest4() \n",
        "print(a)"
      ],
      "execution_count": 70,
      "outputs": [
        {
          "output_type": "stream",
          "text": [
            "2\n"
          ],
          "name": "stdout"
        }
      ]
    },
    {
      "cell_type": "markdown",
      "metadata": {
        "id": "LRnEOB5QX9uH",
        "colab_type": "text"
      },
      "source": [
        "##lamda함수\n",
        "lambda는 함수를 생성할 때 사용하는 예약어로 def와 동일한 역할을 한다. \n",
        " 보통 함수를 한줄로 간결하게 만들 때 사용한다.\n",
        "\n",
        "lambda 사용법\n",
        "\n",
        "lambda 매개변수1, 매개변수2, ... : 매개변수를 이용한 표현식"
      ]
    },
    {
      "cell_type": "code",
      "metadata": {
        "id": "QmJjV08bYG3P",
        "colab_type": "code",
        "colab": {
          "base_uri": "https://localhost:8080/",
          "height": 35
        },
        "outputId": "fc62de70-49b5-4008-bf73-4e8800481094"
      },
      "source": [
        "add = lambda a, b: a+b\n",
        "\n",
        "result = add(3, 4)\n",
        "print(result)"
      ],
      "execution_count": 71,
      "outputs": [
        {
          "output_type": "stream",
          "text": [
            "7\n"
          ],
          "name": "stdout"
        }
      ]
    },
    {
      "cell_type": "code",
      "metadata": {
        "id": "PbWMg4LhYpx3",
        "colab_type": "code",
        "colab": {
          "base_uri": "https://localhost:8080/",
          "height": 35
        },
        "outputId": "a61b804f-820b-4495-bc9c-bdb44df621e7"
      },
      "source": [
        "models = ['K-3000', 'N-1000', 'T-2000', 'X-5000']\n",
        "\n",
        "sorted(models, key=lambda x: x[-4:])"
      ],
      "execution_count": 78,
      "outputs": [
        {
          "output_type": "execute_result",
          "data": {
            "text/plain": [
              "['N-1000', 'T-2000', 'K-3000', 'X-5000']"
            ]
          },
          "metadata": {
            "tags": []
          },
          "execution_count": 78
        }
      ]
    }
  ]
}