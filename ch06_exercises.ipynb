{
  "nbformat": 4,
  "nbformat_minor": 0,
  "metadata": {
    "colab": {
      "name": "ch06_exercises.ipynb",
      "provenance": [],
      "include_colab_link": true
    },
    "kernelspec": {
      "name": "python2",
      "display_name": "Python 2"
    }
  },
  "cells": [
    {
      "cell_type": "markdown",
      "metadata": {
        "id": "view-in-github",
        "colab_type": "text"
      },
      "source": [
        "<a href=\"https://colab.research.google.com/github/Dongjin100/sm100/blob/master/ch06_exercises.ipynb\" target=\"_parent\"><img src=\"https://colab.research.google.com/assets/colab-badge.svg\" alt=\"Open In Colab\"/></a>"
      ]
    },
    {
      "cell_type": "markdown",
      "metadata": {
        "id": "2CdCCcLb006J",
        "colab_type": "text"
      },
      "source": [
        "##내가 프로그램을 만들 수 있을까?"
      ]
    },
    {
      "cell_type": "code",
      "metadata": {
        "id": "XCx5cqHS0xET",
        "colab_type": "code",
        "colab": {
          "base_uri": "https://localhost:8080/",
          "height": 34
        },
        "outputId": "bb90c7fc-69b6-49c0-8613-8c5a2b52b9eb"
      },
      "source": [
        "def GuGu(n):\n",
        "    result = []\n",
        "    i = 1 #i를 1로 초기화한다\n",
        "    while i < 10: #while문의 조건을 걸어준다\n",
        "        result.append(n * i) #배열에 값을 추가해준다\n",
        "        i = i + 1\n",
        "    return result\n",
        "\n",
        "print(\"출력값 :{0}\".format(GuGu(2)))"
      ],
      "execution_count": 1,
      "outputs": [
        {
          "output_type": "stream",
          "text": [
            "출력값 :[2, 4, 6, 8, 10, 12, 14, 16, 18]\n"
          ],
          "name": "stdout"
        }
      ]
    },
    {
      "cell_type": "code",
      "metadata": {
        "id": "yTFuhtY01glf",
        "colab_type": "code",
        "colab": {
          "base_uri": "https://localhost:8080/",
          "height": 34
        },
        "outputId": "8463968f-426a-4564-e948-f77d15bf212b"
      },
      "source": [
        "def gugu(i):\n",
        "  result=[]\n",
        "  for n in range(1,10):\n",
        "    result.append(n*i)\n",
        "  return result  \n",
        "print(\"출력값 :{0}\".format(gugu(2)))"
      ],
      "execution_count": 2,
      "outputs": [
        {
          "output_type": "stream",
          "text": [
            "출력값 :[2, 4, 6, 8, 10, 12, 14, 16, 18]\n"
          ],
          "name": "stdout"
        }
      ]
    },
    {
      "cell_type": "code",
      "metadata": {
        "id": "7Snp_HZo2pyo",
        "colab_type": "code",
        "colab": {}
      },
      "source": [
        ""
      ],
      "execution_count": 0,
      "outputs": []
    },
    {
      "cell_type": "markdown",
      "metadata": {
        "id": "u5NwNfuT22R-",
        "colab_type": "text"
      },
      "source": [
        "##문제2, 3과5의 배수 합 구하기"
      ]
    },
    {
      "cell_type": "code",
      "metadata": {
        "id": "6UCGg7Cy26xC",
        "colab_type": "code",
        "colab": {
          "base_uri": "https://localhost:8080/",
          "height": 34
        },
        "outputId": "b2cd3818-35f5-4e4c-eb73-ba87f771c3c5"
      },
      "source": [
        "result=0\n",
        "\n",
        "for i in range(1,1000): \n",
        "  if i%3==0 or i%5==0 : \n",
        "    result+=i \n",
        "\n",
        "print(\"출력값: {0}\".format(result))"
      ],
      "execution_count": 3,
      "outputs": [
        {
          "output_type": "stream",
          "text": [
            "출력값: 233168\n"
          ],
          "name": "stdout"
        }
      ]
    },
    {
      "cell_type": "code",
      "metadata": {
        "id": "A_W7PcRB3Kz0",
        "colab_type": "code",
        "colab": {
          "base_uri": "https://localhost:8080/",
          "height": 34
        },
        "outputId": "df809b6b-8dbf-4dc5-b71f-2d6d530b280d"
      },
      "source": [
        "result=0\n",
        "i=1 #초기값을 1로 설정한다\n",
        "\n",
        "while i<1000:\n",
        "  if i%3==0 or i%5==0 : # 논리연산자 or을 이용하여  3,5를 i로 나누었을때 나머지가 0이면 result에 값을 더한다\n",
        "\n",
        "    result+=i\n",
        "  i+=1\n",
        "\n",
        "\n",
        "print(\"출력값: {0}\".format(result))"
      ],
      "execution_count": 4,
      "outputs": [
        {
          "output_type": "stream",
          "text": [
            "출력값: 233168\n"
          ],
          "name": "stdout"
        }
      ]
    },
    {
      "cell_type": "markdown",
      "metadata": {
        "id": "8GnjQzj53kh-",
        "colab_type": "text"
      },
      "source": [
        "##문제3:게시판 페이징하기"
      ]
    },
    {
      "cell_type": "code",
      "metadata": {
        "id": "vFSaUnwf6XRe",
        "colab_type": "code",
        "colab": {
          "base_uri": "https://localhost:8080/",
          "height": 105
        },
        "outputId": "f4953e07-0dcf-4ee5-a5b8-56f0161f9101"
      },
      "source": [
        "def getTotalPage(m, n):\n",
        "    if m % n == 0:   \n",
        "        return m // n\n",
        "    else:\n",
        "        return m // n + 1  # 페이지를 구하는 식\n",
        "\n",
        "print(\"출력값:{0}\".format(getTotalPage(5, 10)))\n",
        "print(\"출력값:{0}\".format(getTotalPage(10,10)))\n",
        "print(\"출력값:{0}\".format(getTotalPage(15, 10)))\n",
        "print(\"출력값:{0}\".format(getTotalPage(25, 10)))\n",
        "print(\"출력값:{0}\".format(getTotalPage(30, 10)))"
      ],
      "execution_count": 5,
      "outputs": [
        {
          "output_type": "stream",
          "text": [
            "출력값:1\n",
            "출력값:1\n",
            "출력값:2\n",
            "출력값:3\n",
            "출력값:3\n"
          ],
          "name": "stdout"
        }
      ]
    },
    {
      "cell_type": "code",
      "metadata": {
        "id": "eI5UX0kL99JP",
        "colab_type": "code",
        "colab": {}
      },
      "source": [
        "def getTotalPage(m,n):\n",
        "  return m//n if m%n==0 else m//n+1 \n",
        "\n",
        "print(\"출력값:{0}\".format(getTotalPage(5, 10)))\n",
        "print(\"출력값:{0}\".format(getTotalPage(10,10)))\n",
        "print(\"출력값:{0}\".format(getTotalPage(15, 10)))\n",
        "print(\"출력값:{0}\".format(getTotalPage(25, 10)))\n",
        "print(\"출력값:{0}\".format(getTotalPage(30, 10)))"
      ],
      "execution_count": 0,
      "outputs": []
    },
    {
      "cell_type": "markdown",
      "metadata": {
        "id": "aKnfxtCb-UNs",
        "colab_type": "text"
      },
      "source": [
        "##문제4 간단한 메모장 만들기"
      ]
    },
    {
      "cell_type": "code",
      "metadata": {
        "id": "3Y1GwIgz-Eb2",
        "colab_type": "code",
        "colab": {}
      },
      "source": [
        "import sys\n",
        "\n",
        "option = sys.argv[1]\n",
        "\n",
        "if option == '-a':\n",
        "    memo = sys.argv[2]\n",
        "    f = open('memo.txt', 'a')\n",
        "    f.write(memo)\n",
        "    f.write('\\n')\n",
        "    f.close()\n",
        "elif option == '-v':\n",
        "    f = open('memo.txt','r')\n",
        "    memo = f.read()\n",
        "    f.close()\n",
        "    print(memo)"
      ],
      "execution_count": 0,
      "outputs": []
    },
    {
      "cell_type": "code",
      "metadata": {
        "id": "bXbxb_w2-gEE",
        "colab_type": "code",
        "colab": {
          "base_uri": "https://localhost:8080/",
          "height": 34
        },
        "outputId": "7d18632f-c077-4e28-bc72-988b2221b5f2"
      },
      "source": [
        "run memo.py -a \"Life is too short\""
      ],
      "execution_count": 15,
      "outputs": [
        {
          "output_type": "stream",
          "text": [
            "ERROR:root:File `u'memo.py'` not found.\n"
          ],
          "name": "stderr"
        }
      ]
    },
    {
      "cell_type": "code",
      "metadata": {
        "id": "2xYF_9tg-jks",
        "colab_type": "code",
        "colab": {
          "base_uri": "https://localhost:8080/",
          "height": 34
        },
        "outputId": "6f6fe25f-7a1e-44e2-8b21-6b4dbfeb9575"
      },
      "source": [
        "run memo.py -a \"You need a Python\""
      ],
      "execution_count": 16,
      "outputs": [
        {
          "output_type": "stream",
          "text": [
            "ERROR:root:File `u'memo.py'` not found.\n"
          ],
          "name": "stderr"
        }
      ]
    },
    {
      "cell_type": "code",
      "metadata": {
        "id": "vLbImjUQ-lCc",
        "colab_type": "code",
        "colab": {
          "base_uri": "https://localhost:8080/",
          "height": 34
        },
        "outputId": "cf7ea452-6219-4ceb-d5c4-a0759e3d1c49"
      },
      "source": [
        "run memo.py -v"
      ],
      "execution_count": 17,
      "outputs": [
        {
          "output_type": "stream",
          "text": [
            "ERROR:root:File `u'memo.py'` not found.\n"
          ],
          "name": "stderr"
        }
      ]
    },
    {
      "cell_type": "markdown",
      "metadata": {
        "id": "ZkaRp4YMAG2x",
        "colab_type": "text"
      },
      "source": [
        "##문제5 탭을 4개의 공백으로 바꾸기"
      ]
    },
    {
      "cell_type": "code",
      "metadata": {
        "id": "djnFmHrxAPvZ",
        "colab_type": "code",
        "colab": {
          "base_uri": "https://localhost:8080/",
          "height": 274
        },
        "outputId": "9a772681-9f22-4d43-af7c-4739b04cfc2a"
      },
      "source": [
        "import sys\n",
        "\n",
        "src = sys.argv[1] \n",
        "dst = sys.argv[2]\n",
        "\n",
        "print(src)\n",
        "print(dst)\n",
        "f = open(\"a.txt\",'r')\n",
        "tab_content = f.read()\n",
        "f.close()\n",
        "\n",
        "space_content = tab_content.replace(\"\\t\", \" \"*4)\n",
        "\n",
        "f = open(dst, 'w')\n",
        "f.write(space_content)\n",
        "f.close()\n",
        "print(space_content)"
      ],
      "execution_count": 18,
      "outputs": [
        {
          "output_type": "stream",
          "text": [
            "-f\n",
            "/root/.local/share/jupyter/runtime/kernel-96a217da-ee83-4044-a8b7-376d3cc45250.json\n"
          ],
          "name": "stdout"
        },
        {
          "output_type": "error",
          "ename": "IOError",
          "evalue": "ignored",
          "traceback": [
            "\u001b[0;31m\u001b[0m",
            "\u001b[0;31mIOError\u001b[0mTraceback (most recent call last)",
            "\u001b[0;32m<ipython-input-18-26cdc48d099d>\u001b[0m in \u001b[0;36m<module>\u001b[0;34m()\u001b[0m\n\u001b[1;32m      6\u001b[0m \u001b[0;32mprint\u001b[0m\u001b[0;34m(\u001b[0m\u001b[0msrc\u001b[0m\u001b[0;34m)\u001b[0m\u001b[0;34m\u001b[0m\u001b[0;34m\u001b[0m\u001b[0m\n\u001b[1;32m      7\u001b[0m \u001b[0;32mprint\u001b[0m\u001b[0;34m(\u001b[0m\u001b[0mdst\u001b[0m\u001b[0;34m)\u001b[0m\u001b[0;34m\u001b[0m\u001b[0;34m\u001b[0m\u001b[0m\n\u001b[0;32m----> 8\u001b[0;31m \u001b[0mf\u001b[0m \u001b[0;34m=\u001b[0m \u001b[0mopen\u001b[0m\u001b[0;34m(\u001b[0m\u001b[0;34m\"a.txt\"\u001b[0m\u001b[0;34m,\u001b[0m\u001b[0;34m'r'\u001b[0m\u001b[0;34m)\u001b[0m\u001b[0;34m\u001b[0m\u001b[0;34m\u001b[0m\u001b[0m\n\u001b[0m\u001b[1;32m      9\u001b[0m \u001b[0mtab_content\u001b[0m \u001b[0;34m=\u001b[0m \u001b[0mf\u001b[0m\u001b[0;34m.\u001b[0m\u001b[0mread\u001b[0m\u001b[0;34m(\u001b[0m\u001b[0;34m)\u001b[0m\u001b[0;34m\u001b[0m\u001b[0;34m\u001b[0m\u001b[0m\n\u001b[1;32m     10\u001b[0m \u001b[0mf\u001b[0m\u001b[0;34m.\u001b[0m\u001b[0mclose\u001b[0m\u001b[0;34m(\u001b[0m\u001b[0;34m)\u001b[0m\u001b[0;34m\u001b[0m\u001b[0;34m\u001b[0m\u001b[0m\n",
            "\u001b[0;31mIOError\u001b[0m: [Errno 2] No such file or directory: 'a.txt'"
          ]
        }
      ]
    },
    {
      "cell_type": "code",
      "metadata": {
        "id": "MpifevbYAVF7",
        "colab_type": "code",
        "colab": {
          "base_uri": "https://localhost:8080/",
          "height": 34
        },
        "outputId": "56079012-ed5d-4841-b29c-9d7da07997fa"
      },
      "source": [
        "run tabto4.py a.txt b.txt"
      ],
      "execution_count": 19,
      "outputs": [
        {
          "output_type": "stream",
          "text": [
            "ERROR:root:File `u'tabto4.py'` not found.\n"
          ],
          "name": "stderr"
        }
      ]
    }
  ]
}