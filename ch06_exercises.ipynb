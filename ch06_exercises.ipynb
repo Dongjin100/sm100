{
  "nbformat": 4,
  "nbformat_minor": 0,
  "metadata": {
    "colab": {
      "name": "ch06_exercises.ipynb",
      "provenance": [],
      "collapsed_sections": [],
      "toc_visible": true,
      "include_colab_link": true
    },
    "kernelspec": {
      "name": "python2",
      "display_name": "Python 2"
    }
  },
  "cells": [
    {
      "cell_type": "markdown",
      "metadata": {
        "id": "view-in-github",
        "colab_type": "text"
      },
      "source": [
        "<a href=\"https://colab.research.google.com/github/Dongjin100/sm100/blob/master/ch06_exercises.ipynb\" target=\"_parent\"><img src=\"https://colab.research.google.com/assets/colab-badge.svg\" alt=\"Open In Colab\"/></a>"
      ]
    },
    {
      "cell_type": "markdown",
      "metadata": {
        "id": "2CdCCcLb006J",
        "colab_type": "text"
      },
      "source": [
        "##내가 프로그램을 만들 수 있을까?"
      ]
    },
    {
      "cell_type": "code",
      "metadata": {
        "id": "XCx5cqHS0xET",
        "colab_type": "code",
        "outputId": "bb90c7fc-69b6-49c0-8613-8c5a2b52b9eb",
        "colab": {
          "base_uri": "https://localhost:8080/",
          "height": 34
        }
      },
      "source": [
        "def GuGu(n):\n",
        "    result = []\n",
        "    i = 1 #i를 1로 초기화한다\n",
        "    while i < 10: #while문의 조건을 걸어준다\n",
        "        result.append(n * i) #배열에 값을 추가해준다\n",
        "        i = i + 1\n",
        "    return result\n",
        "\n",
        "print(\"출력값 :{0}\".format(GuGu(2)))"
      ],
      "execution_count": 0,
      "outputs": [
        {
          "output_type": "stream",
          "text": [
            "출력값 :[2, 4, 6, 8, 10, 12, 14, 16, 18]\n"
          ],
          "name": "stdout"
        }
      ]
    },
    {
      "cell_type": "code",
      "metadata": {
        "id": "yTFuhtY01glf",
        "colab_type": "code",
        "outputId": "8463968f-426a-4564-e948-f77d15bf212b",
        "colab": {
          "base_uri": "https://localhost:8080/",
          "height": 34
        }
      },
      "source": [
        "def gugu(i):\n",
        "  result=[]\n",
        "  for n in range(1,10):\n",
        "    result.append(n*i)\n",
        "  return result  \n",
        "print(\"출력값 :{0}\".format(gugu(2)))"
      ],
      "execution_count": 0,
      "outputs": [
        {
          "output_type": "stream",
          "text": [
            "출력값 :[2, 4, 6, 8, 10, 12, 14, 16, 18]\n"
          ],
          "name": "stdout"
        }
      ]
    },
    {
      "cell_type": "code",
      "metadata": {
        "id": "7Snp_HZo2pyo",
        "colab_type": "code",
        "colab": {}
      },
      "source": [
        ""
      ],
      "execution_count": 0,
      "outputs": []
    },
    {
      "cell_type": "markdown",
      "metadata": {
        "id": "u5NwNfuT22R-",
        "colab_type": "text"
      },
      "source": [
        "##문제2, 3과5의 배수 합 구하기"
      ]
    },
    {
      "cell_type": "code",
      "metadata": {
        "id": "6UCGg7Cy26xC",
        "colab_type": "code",
        "outputId": "b2cd3818-35f5-4e4c-eb73-ba87f771c3c5",
        "colab": {
          "base_uri": "https://localhost:8080/",
          "height": 34
        }
      },
      "source": [
        "result=0\n",
        "\n",
        "for i in range(1,1000): \n",
        "  if i%3==0 or i%5==0 : \n",
        "    result+=i \n",
        "\n",
        "print(\"출력값: {0}\".format(result))"
      ],
      "execution_count": 0,
      "outputs": [
        {
          "output_type": "stream",
          "text": [
            "출력값: 233168\n"
          ],
          "name": "stdout"
        }
      ]
    },
    {
      "cell_type": "code",
      "metadata": {
        "id": "A_W7PcRB3Kz0",
        "colab_type": "code",
        "outputId": "df809b6b-8dbf-4dc5-b71f-2d6d530b280d",
        "colab": {
          "base_uri": "https://localhost:8080/",
          "height": 34
        }
      },
      "source": [
        "result=0\n",
        "i=1 #초기값을 1로 설정한다\n",
        "\n",
        "while i<1000:\n",
        "  if i%3==0 or i%5==0 : # 논리연산자 or을 이용하여  3,5를 i로 나누었을때 나머지가 0이면 result에 값을 더한다\n",
        "\n",
        "    result+=i\n",
        "  i+=1\n",
        "\n",
        "\n",
        "print(\"출력값: {0}\".format(result))"
      ],
      "execution_count": 0,
      "outputs": [
        {
          "output_type": "stream",
          "text": [
            "출력값: 233168\n"
          ],
          "name": "stdout"
        }
      ]
    },
    {
      "cell_type": "markdown",
      "metadata": {
        "id": "8GnjQzj53kh-",
        "colab_type": "text"
      },
      "source": [
        "##문제3:게시판 페이징하기"
      ]
    },
    {
      "cell_type": "code",
      "metadata": {
        "id": "vFSaUnwf6XRe",
        "colab_type": "code",
        "outputId": "f4953e07-0dcf-4ee5-a5b8-56f0161f9101",
        "colab": {
          "base_uri": "https://localhost:8080/",
          "height": 105
        }
      },
      "source": [
        "def getTotalPage(m, n):\n",
        "    if m % n == 0:   \n",
        "        return m // n\n",
        "    else:\n",
        "        return m // n + 1  # 페이지를 구하는 식\n",
        "\n",
        "print(\"출력값:{0}\".format(getTotalPage(5, 10)))\n",
        "print(\"출력값:{0}\".format(getTotalPage(10,10)))\n",
        "print(\"출력값:{0}\".format(getTotalPage(15, 10)))\n",
        "print(\"출력값:{0}\".format(getTotalPage(25, 10)))\n",
        "print(\"출력값:{0}\".format(getTotalPage(30, 10)))"
      ],
      "execution_count": 0,
      "outputs": [
        {
          "output_type": "stream",
          "text": [
            "출력값:1\n",
            "출력값:1\n",
            "출력값:2\n",
            "출력값:3\n",
            "출력값:3\n"
          ],
          "name": "stdout"
        }
      ]
    },
    {
      "cell_type": "code",
      "metadata": {
        "id": "eI5UX0kL99JP",
        "colab_type": "code",
        "colab": {}
      },
      "source": [
        "def getTotalPage(m,n):\n",
        "  return m//n if m%n==0 else m//n+1 \n",
        "\n",
        "print(\"출력값:{0}\".format(getTotalPage(5, 10)))\n",
        "print(\"출력값:{0}\".format(getTotalPage(10,10)))\n",
        "print(\"출력값:{0}\".format(getTotalPage(15, 10)))\n",
        "print(\"출력값:{0}\".format(getTotalPage(25, 10)))\n",
        "print(\"출력값:{0}\".format(getTotalPage(30, 10)))"
      ],
      "execution_count": 0,
      "outputs": []
    },
    {
      "cell_type": "markdown",
      "metadata": {
        "id": "aKnfxtCb-UNs",
        "colab_type": "text"
      },
      "source": [
        "##문제4 간단한 메모장 만들기"
      ]
    },
    {
      "cell_type": "code",
      "metadata": {
        "id": "3Y1GwIgz-Eb2",
        "colab_type": "code",
        "colab": {}
      },
      "source": [
        "import sys # sys 모듈을 불러옴\n",
        "\n",
        "option = sys.argv[1] # option에 첫번째 배열을 할당해줌\n",
        "\n",
        "if option == '-a': #첫번째 배열 이 -a면\n",
        "    memo = sys.argv[2] #두번째 배열의 내용을 memo 변수 담아준다.\n",
        "    f = open('memo.txt', 'a') # memo.txt.를 수정모드로 연다.\n",
        "    f.write(memo)  # 두번째 배열이 담긴 memo변수를 memo.txt에 써준다\n",
        "    f.write('\\n') #  배열이 담긴 memo변수를 전부 쓴후 마지막에 줄을 바꿔준다.\n",
        "    f.close() #파일을 닫는다\n",
        "elif option == '-v': # 첫번째 배열 이 -v면\n",
        "    f = open('memo.txt','r') # memo.txt.를 읽기모드로 연다\n",
        "    memo = f.read() # 파일에서 읽어온 내용을 memo변수에 할당한다.\n",
        "    f.close() #파일을 닫는다\n",
        "    print(memo)# memo변수를 출력한다 "
      ],
      "execution_count": 0,
      "outputs": []
    },
    {
      "cell_type": "code",
      "metadata": {
        "id": "bXbxb_w2-gEE",
        "colab_type": "code",
        "colab": {}
      },
      "source": [
        "run memo.py -a \"Life is too short\""
      ],
      "execution_count": 0,
      "outputs": []
    },
    {
      "cell_type": "code",
      "metadata": {
        "id": "2xYF_9tg-jks",
        "colab_type": "code",
        "colab": {}
      },
      "source": [
        "run memo.py -a \"You need a Python\""
      ],
      "execution_count": 0,
      "outputs": []
    },
    {
      "cell_type": "code",
      "metadata": {
        "id": "vLbImjUQ-lCc",
        "colab_type": "code",
        "outputId": "646f3fea-67aa-4952-e4b6-7a1961ff0d8d",
        "colab": {
          "base_uri": "https://localhost:8080/",
          "height": 71
        }
      },
      "source": [
        "run memo.py -v"
      ],
      "execution_count": 0,
      "outputs": [
        {
          "output_type": "stream",
          "text": [
            "Life is too short\n",
            "You need a Python\n",
            "\n"
          ],
          "name": "stdout"
        }
      ]
    },
    {
      "cell_type": "markdown",
      "metadata": {
        "id": "ZkaRp4YMAG2x",
        "colab_type": "text"
      },
      "source": [
        "##문제5 탭을 4개의 공백으로 바꾸기"
      ]
    },
    {
      "cell_type": "code",
      "metadata": {
        "id": "uONXDMvIVKUi",
        "colab_type": "code",
        "colab": {}
      },
      "source": [
        "import sys\n",
        "\n",
        "src = sys.argv[1]\n",
        "dst = sys.argv[2]\n",
        "\n",
        "f = open(src) #src 변수를 염 (첫번째 할당받은 )\n",
        "tab_content = f.read()#src변수에서 연 값을 컨텐츠로 할당시킴\n",
        "f.close()\n",
        "\n",
        "space_content = tab_content.replace(\"\\t\", \" \"*4)#탭 컨텐츠로 받은 값중 \\t 를 \"\"*4로 바꿔줌\n",
        "\n",
        "f = open(dst, 'w')#쓰기모드로 들어가서\n",
        "f.write(space_content)#공백으로 바꿈\n",
        "f.close()#닫는다\n"
      ],
      "execution_count": 0,
      "outputs": []
    },
    {
      "cell_type": "code",
      "metadata": {
        "id": "MpifevbYAVF7",
        "colab_type": "code",
        "colab": {}
      },
      "source": [
        "run tabto4.py a.txt b.txt"
      ],
      "execution_count": 0,
      "outputs": []
    },
    {
      "cell_type": "code",
      "metadata": {
        "id": "K7qO32MuSmb3",
        "colab_type": "code",
        "outputId": "cfdd48ca-b50d-4ab2-8e38-9a5821837521",
        "colab": {
          "base_uri": "https://localhost:8080/",
          "height": 53
        }
      },
      "source": [
        "f = open(\"b.txt\",'r')\n",
        "print(f.read())\n",
        "f.close()"
      ],
      "execution_count": 0,
      "outputs": [
        {
          "output_type": "stream",
          "text": [
            "Life    is    too    short\n",
            "You    need    python\n"
          ],
          "name": "stdout"
        }
      ]
    },
    {
      "cell_type": "code",
      "metadata": {
        "id": "Ty7Dblw4TNDa",
        "colab_type": "code",
        "colab": {}
      },
      "source": [
        ""
      ],
      "execution_count": 0,
      "outputs": []
    }
  ]
}