{
  "nbformat": 4,
  "nbformat_minor": 0,
  "metadata": {
    "colab": {
      "name": "ch5_01_class.ipynb",
      "provenance": [],
      "include_colab_link": true
    },
    "kernelspec": {
      "name": "python2",
      "display_name": "Python 2"
    }
  },
  "cells": [
    {
      "cell_type": "markdown",
      "metadata": {
        "id": "view-in-github",
        "colab_type": "text"
      },
      "source": [
        "<a href=\"https://colab.research.google.com/github/Dongjin100/sm100/blob/master/ch05/ch5_01_class.ipynb\" target=\"_parent\"><img src=\"https://colab.research.google.com/assets/colab-badge.svg\" alt=\"Open In Colab\"/></a>"
      ]
    },
    {
      "cell_type": "markdown",
      "metadata": {
        "id": "LmqWaeLIRLIm",
        "colab_type": "text"
      },
      "source": [
        "##클래스"
      ]
    },
    {
      "cell_type": "code",
      "metadata": {
        "id": "LlvTHS1oQpTV",
        "colab_type": "code",
        "colab": {}
      },
      "source": [
        "# 지정된 기능을 수행하는 변수와 함수의 모음\n",
        "# 인스턴스, 즉 객체를 생성하여 기능을 이용\n",
        "# 코딩을 객체화"
      ],
      "execution_count": 0,
      "outputs": []
    },
    {
      "cell_type": "code",
      "metadata": {
        "id": "iIG2Cf6wRV55",
        "colab_type": "code",
        "colab": {}
      },
      "source": [
        "result = 0"
      ],
      "execution_count": 0,
      "outputs": []
    },
    {
      "cell_type": "code",
      "metadata": {
        "id": "7wA9LPGZRXek",
        "colab_type": "code",
        "colab": {}
      },
      "source": [
        "def add(num):\n",
        "    global result\n",
        "    result += num\n",
        "    return result"
      ],
      "execution_count": 0,
      "outputs": []
    },
    {
      "cell_type": "code",
      "metadata": {
        "id": "gdjc6l8yRaTM",
        "colab_type": "code",
        "outputId": "696c9789-4f00-46dc-d79c-5682d0d19cfa",
        "colab": {
          "base_uri": "https://localhost:8080/",
          "height": 35
        }
      },
      "source": [
        "print(add(3))"
      ],
      "execution_count": 0,
      "outputs": [
        {
          "output_type": "stream",
          "text": [
            "3\n"
          ],
          "name": "stdout"
        }
      ]
    },
    {
      "cell_type": "code",
      "metadata": {
        "id": "gDPG7n7sRctE",
        "colab_type": "code",
        "outputId": "f0838eb0-238f-4f42-ca42-2cd5a312dc31",
        "colab": {
          "base_uri": "https://localhost:8080/",
          "height": 35
        }
      },
      "source": [
        "print(add(4))"
      ],
      "execution_count": 0,
      "outputs": [
        {
          "output_type": "stream",
          "text": [
            "7\n"
          ],
          "name": "stdout"
        }
      ]
    },
    {
      "cell_type": "markdown",
      "metadata": {
        "id": "kEEDjDx3Rge6",
        "colab_type": "text"
      },
      "source": [
        "###2대의 계산기가 필요한 상황이 발생하면?"
      ]
    },
    {
      "cell_type": "code",
      "metadata": {
        "id": "GkfxHBOPRmPs",
        "colab_type": "code",
        "colab": {}
      },
      "source": [
        "result1 = 0\n",
        "result2 = 0"
      ],
      "execution_count": 0,
      "outputs": []
    },
    {
      "cell_type": "code",
      "metadata": {
        "id": "MbaRBMsxRobs",
        "colab_type": "code",
        "colab": {}
      },
      "source": [
        "def add1(num):\n",
        "    global result1\n",
        "    result1 += num\n",
        "    return result1"
      ],
      "execution_count": 0,
      "outputs": []
    },
    {
      "cell_type": "code",
      "metadata": {
        "id": "cZTadH9DRq80",
        "colab_type": "code",
        "colab": {}
      },
      "source": [
        "def add2(num):\n",
        "    global result2\n",
        "    result2 += num\n",
        "    return result2"
      ],
      "execution_count": 0,
      "outputs": []
    },
    {
      "cell_type": "code",
      "metadata": {
        "id": "1l3jrn2qRs2E",
        "colab_type": "code",
        "outputId": "e3218db1-6a79-45f2-f2d2-f3a13288bd99",
        "colab": {
          "base_uri": "https://localhost:8080/",
          "height": 35
        }
      },
      "source": [
        "print(add1(3))"
      ],
      "execution_count": 0,
      "outputs": [
        {
          "output_type": "stream",
          "text": [
            "3\n"
          ],
          "name": "stdout"
        }
      ]
    },
    {
      "cell_type": "code",
      "metadata": {
        "id": "O7lG_qWCRuEE",
        "colab_type": "code",
        "outputId": "235906c8-bfbe-4fe6-f2dc-062f43c1f4d2",
        "colab": {
          "base_uri": "https://localhost:8080/",
          "height": 35
        }
      },
      "source": [
        "print(add1(4))"
      ],
      "execution_count": 0,
      "outputs": [
        {
          "output_type": "stream",
          "text": [
            "7\n"
          ],
          "name": "stdout"
        }
      ]
    },
    {
      "cell_type": "code",
      "metadata": {
        "id": "nXJBoiN2RvQE",
        "colab_type": "code",
        "outputId": "6c1f57cb-8d07-4c58-bfcc-8ec698d50123",
        "colab": {
          "base_uri": "https://localhost:8080/",
          "height": 35
        }
      },
      "source": [
        "print(add2(3))"
      ],
      "execution_count": 0,
      "outputs": [
        {
          "output_type": "stream",
          "text": [
            "3\n"
          ],
          "name": "stdout"
        }
      ]
    },
    {
      "cell_type": "code",
      "metadata": {
        "id": "7RO7uY6-Rw5U",
        "colab_type": "code",
        "outputId": "a7f1df00-82f4-4e2e-b7f3-18c9945a2520",
        "colab": {
          "base_uri": "https://localhost:8080/",
          "height": 35
        }
      },
      "source": [
        "print(add2(7))"
      ],
      "execution_count": 0,
      "outputs": [
        {
          "output_type": "stream",
          "text": [
            "10\n"
          ],
          "name": "stdout"
        }
      ]
    },
    {
      "cell_type": "markdown",
      "metadata": {
        "id": "SjW50-bUR1ES",
        "colab_type": "text"
      },
      "source": [
        "##클래스를 사용하면 간단하게 해결"
      ]
    },
    {
      "cell_type": "code",
      "metadata": {
        "id": "3C9UheSASEvU",
        "colab_type": "code",
        "outputId": "d360a3fe-3fa0-4c80-fb54-3afcf51b00d6",
        "colab": {
          "base_uri": "https://localhost:8080/",
          "height": 107
        }
      },
      "source": [
        "class Calculator:\n",
        "    def __init__(self):\n",
        "        self.result = 0\n",
        "\n",
        "    def add(self, num):\n",
        "        self.result += num\n",
        "        return self.result\n",
        "    \n",
        "    def sub(self, num):\n",
        "        self.result -= num\n",
        "        return self.result\n",
        "\n",
        "\n",
        "\n",
        "cal1 = Calculator()\n",
        "cal2 = Calculator()\n",
        "cal3 = Calculator()\n",
        "\n",
        "print(cal1.add(3))\n",
        "print(cal1.add(4))\n",
        "print(cal2.add(3))\n",
        "print(cal2.add(7))\n",
        "print(cal3.sub(7))\n"
      ],
      "execution_count": 0,
      "outputs": [
        {
          "output_type": "stream",
          "text": [
            "3\n",
            "7\n",
            "3\n",
            "10\n",
            "-7\n"
          ],
          "name": "stdout"
        }
      ]
    },
    {
      "cell_type": "markdown",
      "metadata": {
        "id": "4sg3T221UaYW",
        "colab_type": "text"
      },
      "source": [
        "##클래스와 객체"
      ]
    },
    {
      "cell_type": "code",
      "metadata": {
        "id": "70jmWs8gUcya",
        "colab_type": "code",
        "outputId": "5a5436da-9c2a-4808-f9b4-eaa67791210e",
        "colab": {
          "base_uri": "https://localhost:8080/",
          "height": 35
        }
      },
      "source": [
        "class Cookie:\n",
        "    pass\n",
        "\n",
        "a = Cookie()\n",
        "b = Cookie()\n",
        "id(a), id(b)"
      ],
      "execution_count": 0,
      "outputs": [
        {
          "output_type": "execute_result",
          "data": {
            "text/plain": [
              "(139901842487560, 139901842486048)"
            ]
          },
          "metadata": {
            "tags": []
          },
          "execution_count": 27
        }
      ]
    },
    {
      "cell_type": "markdown",
      "metadata": {
        "id": "wNxGVPXgUfAG",
        "colab_type": "text"
      },
      "source": [
        "##사칙연산 클래스"
      ]
    },
    {
      "cell_type": "code",
      "metadata": {
        "id": "pIMC6aggUjWU",
        "colab_type": "code",
        "outputId": "651e9261-e7b9-40df-aea4-cb4c73ad6658",
        "colab": {
          "base_uri": "https://localhost:8080/",
          "height": 35
        }
      },
      "source": [
        "class FourCal:\n",
        "    pass\n",
        "\n",
        "\n",
        "# 객체 만들기\n",
        "a = FourCal()\n",
        "type(a), id(a)\n"
      ],
      "execution_count": 0,
      "outputs": [
        {
          "output_type": "execute_result",
          "data": {
            "text/plain": [
              "(instance, 139901851288496)"
            ]
          },
          "metadata": {
            "tags": []
          },
          "execution_count": 28
        }
      ]
    },
    {
      "cell_type": "code",
      "metadata": {
        "id": "PavzhpGnU3re",
        "colab_type": "code",
        "colab": {}
      },
      "source": [
        "class FourCal:\n",
        "  def setdata(self, first, second):\n",
        "       self.first = first\n",
        "       self.second = second\n",
        "        \n",
        "\n",
        " "
      ],
      "execution_count": 0,
      "outputs": []
    },
    {
      "cell_type": "code",
      "metadata": {
        "id": "tJTkKgy3Wm-u",
        "colab_type": "code",
        "colab": {}
      },
      "source": [
        "a = FourCal()\n",
        "a.setdata(4, 2)"
      ],
      "execution_count": 0,
      "outputs": []
    },
    {
      "cell_type": "code",
      "metadata": {
        "id": "POHu1YCoWqS9",
        "colab_type": "code",
        "outputId": "acd3cedf-8fd4-4766-c13b-9befd0e9b0be",
        "colab": {
          "base_uri": "https://localhost:8080/",
          "height": 35
        }
      },
      "source": [
        "a.first \n"
      ],
      "execution_count": 0,
      "outputs": [
        {
          "output_type": "execute_result",
          "data": {
            "text/plain": [
              "4"
            ]
          },
          "metadata": {
            "tags": []
          },
          "execution_count": 40
        }
      ]
    },
    {
      "cell_type": "code",
      "metadata": {
        "id": "kMb9R4PrWvTk",
        "colab_type": "code",
        "outputId": "52fb81e5-e517-407f-9084-c683628d2b7f",
        "colab": {
          "base_uri": "https://localhost:8080/",
          "height": 35
        }
      },
      "source": [
        "a.second"
      ],
      "execution_count": 0,
      "outputs": [
        {
          "output_type": "execute_result",
          "data": {
            "text/plain": [
              "2"
            ]
          },
          "metadata": {
            "tags": []
          },
          "execution_count": 39
        }
      ]
    },
    {
      "cell_type": "markdown",
      "metadata": {
        "id": "oPjjUrFxXHb9",
        "colab_type": "text"
      },
      "source": [
        "##객체이용하기"
      ]
    },
    {
      "cell_type": "code",
      "metadata": {
        "id": "TTLnsfkIXJH1",
        "colab_type": "code",
        "outputId": "0437b616-2d83-4139-a106-67486f02a959",
        "colab": {
          "base_uri": "https://localhost:8080/",
          "height": 35
        }
      },
      "source": [
        "a = FourCal()\n",
        "b = FourCal()\n",
        "\n",
        "a is b\n",
        "\n",
        "type(a), id(a)\n",
        "type(b), id(b)"
      ],
      "execution_count": 0,
      "outputs": [
        {
          "output_type": "execute_result",
          "data": {
            "text/plain": [
              "(instance, 139901842523200)"
            ]
          },
          "metadata": {
            "tags": []
          },
          "execution_count": 44
        }
      ]
    },
    {
      "cell_type": "code",
      "metadata": {
        "id": "LOMYhTCdXmQt",
        "colab_type": "code",
        "outputId": "10c8f8b9-2215-4a12-b484-279c7b2e7008",
        "colab": {
          "base_uri": "https://localhost:8080/",
          "height": 35
        }
      },
      "source": [
        "type(b), id(b)"
      ],
      "execution_count": 0,
      "outputs": [
        {
          "output_type": "execute_result",
          "data": {
            "text/plain": [
              "(instance, 139901842265368)"
            ]
          },
          "metadata": {
            "tags": []
          },
          "execution_count": 43
        }
      ]
    },
    {
      "cell_type": "code",
      "metadata": {
        "id": "3j4Tr_tXXPAd",
        "colab_type": "code",
        "outputId": "7651327b-2f56-4f8d-c471-d8fd5fb33c20",
        "colab": {
          "base_uri": "https://localhost:8080/",
          "height": 53
        }
      },
      "source": [
        "a.setdata(4, 2)\n",
        "print(a.first)\n",
        "b.setdata(3, 7)\n",
        "print(b.first)"
      ],
      "execution_count": 0,
      "outputs": [
        {
          "output_type": "stream",
          "text": [
            "4\n",
            "3\n"
          ],
          "name": "stdout"
        }
      ]
    },
    {
      "cell_type": "markdown",
      "metadata": {
        "id": "VmzYG7KtXq_t",
        "colab_type": "text"
      },
      "source": [
        "##더하기 기능 만들기"
      ]
    },
    {
      "cell_type": "code",
      "metadata": {
        "id": "C_2ZtIBeXs_V",
        "colab_type": "code",
        "colab": {}
      },
      "source": [
        "class FourCal:\n",
        "    def setdata(self, first, second):\n",
        "        self.first = first\n",
        "        self.second = second\n",
        "\n",
        "    def add(self):\n",
        "        result = self.first + self.second\n",
        "        return result"
      ],
      "execution_count": 0,
      "outputs": []
    },
    {
      "cell_type": "code",
      "metadata": {
        "id": "rs9ie0GCXwZs",
        "colab_type": "code",
        "outputId": "fe70e53e-0b83-4f31-a743-bf52ba27e30c",
        "colab": {
          "base_uri": "https://localhost:8080/",
          "height": 35
        }
      },
      "source": [
        "a = FourCal()\n",
        "a.setdata(4, 2)\n",
        "a.add()\n"
      ],
      "execution_count": 0,
      "outputs": [
        {
          "output_type": "execute_result",
          "data": {
            "text/plain": [
              "6"
            ]
          },
          "metadata": {
            "tags": []
          },
          "execution_count": 46
        }
      ]
    },
    {
      "cell_type": "markdown",
      "metadata": {
        "id": "SLbECBPIX4Ei",
        "colab_type": "text"
      },
      "source": [
        "##곱하기, 빼기, 나누기 기능 추가"
      ]
    },
    {
      "cell_type": "code",
      "metadata": {
        "id": "HkZJYQdIX67N",
        "colab_type": "code",
        "colab": {}
      },
      "source": [
        "class FourCal:\n",
        "    def setdata(self, first, second):\n",
        "        self.first = first\n",
        "        self.second = second\n",
        "        \n",
        "    def add(self):\n",
        "        result = self.first + self.second\n",
        "        return result\n",
        "\n",
        "    def sub(self):\n",
        "        result = self.first - self.second\n",
        "        return result\n",
        "\n",
        "    def mul(self):\n",
        "        result = self.first * self.second\n",
        "        return result\n",
        "\n",
        "    def div(self):\n",
        "        result = self.first / self.second\n",
        "        return result"
      ],
      "execution_count": 0,
      "outputs": []
    },
    {
      "cell_type": "code",
      "metadata": {
        "id": "-TCoAj-rX9uu",
        "colab_type": "code",
        "colab": {}
      },
      "source": [
        "a = FourCal()\n",
        "b = FourCal()"
      ],
      "execution_count": 0,
      "outputs": []
    },
    {
      "cell_type": "code",
      "metadata": {
        "id": "zXmyiw63YALt",
        "colab_type": "code",
        "colab": {}
      },
      "source": [
        "a.setdata(4, 2)\n",
        "b.setdata(3, 8)"
      ],
      "execution_count": 0,
      "outputs": []
    },
    {
      "cell_type": "code",
      "metadata": {
        "id": "STNEYkArYBy9",
        "colab_type": "code",
        "outputId": "bd558082-3edc-4bd4-d09e-1a4761e5419f",
        "colab": {
          "base_uri": "https://localhost:8080/",
          "height": 35
        }
      },
      "source": [
        "a.add(), a.sub(), a.mul(), a.div()"
      ],
      "execution_count": 0,
      "outputs": [
        {
          "output_type": "execute_result",
          "data": {
            "text/plain": [
              "(6, 2, 8, 2)"
            ]
          },
          "metadata": {
            "tags": []
          },
          "execution_count": 50
        }
      ]
    },
    {
      "cell_type": "code",
      "metadata": {
        "id": "9auuVQHUYDww",
        "colab_type": "code",
        "outputId": "71087ef3-60a9-4d1e-d00e-a0e47434b0d5",
        "colab": {
          "base_uri": "https://localhost:8080/",
          "height": 35
        }
      },
      "source": [
        "b.add(), b.sub(), b.mul(), b.div()"
      ],
      "execution_count": 0,
      "outputs": [
        {
          "output_type": "execute_result",
          "data": {
            "text/plain": [
              "(11, -5, 24, 0)"
            ]
          },
          "metadata": {
            "tags": []
          },
          "execution_count": 51
        }
      ]
    },
    {
      "cell_type": "markdown",
      "metadata": {
        "id": "zlBSNaY5YiMz",
        "colab_type": "text"
      },
      "source": [
        "##생성자 (Constructor)"
      ]
    },
    {
      "cell_type": "code",
      "metadata": {
        "id": "4wICUCh8Ykrw",
        "colab_type": "code",
        "colab": {}
      },
      "source": [
        "class FourCal:\n",
        "    def __init__(self, first, second):\n",
        "        self.first = first\n",
        "        self.second = second\n",
        "\n",
        "    def setdata(self, first, second):\n",
        "        self.first = first\n",
        "        self.second = second\n",
        "        \n",
        "    def add(self):\n",
        "        result = self.first + self.second\n",
        "        return result\n",
        "\n",
        "    def sub(self):\n",
        "        result = self.first - self.second\n",
        "        return result\n",
        "\n",
        "    def mul(self):\n",
        "        result = self.first * self.second\n",
        "        return result\n",
        "\n",
        "    def div(self):\n",
        "        result = self.first / self.second\n",
        "        return result\n",
        "    "
      ],
      "execution_count": 0,
      "outputs": []
    },
    {
      "cell_type": "code",
      "metadata": {
        "id": "4aU4t4X5Yv1o",
        "colab_type": "code",
        "outputId": "f7db726a-2293-42a3-ffd9-b77b4832ccf7",
        "colab": {
          "base_uri": "https://localhost:8080/",
          "height": 35
        }
      },
      "source": [
        "a = FourCal(4, 2)\n",
        "\n",
        "a.first, a.second\n",
        "\n",
        "a.mul()"
      ],
      "execution_count": 0,
      "outputs": [
        {
          "output_type": "execute_result",
          "data": {
            "text/plain": [
              "8"
            ]
          },
          "metadata": {
            "tags": []
          },
          "execution_count": 62
        }
      ]
    },
    {
      "cell_type": "markdown",
      "metadata": {
        "id": "-mUV9FX9ZzQ8",
        "colab_type": "text"
      },
      "source": [
        "##클래스의 상속"
      ]
    },
    {
      "cell_type": "code",
      "metadata": {
        "id": "cRH84OAuZ2Oi",
        "colab_type": "code",
        "colab": {}
      },
      "source": [
        "class MoreFourCal(FourCal):\n",
        "    pass\n"
      ],
      "execution_count": 0,
      "outputs": []
    },
    {
      "cell_type": "code",
      "metadata": {
        "id": "sh0nvUraaB61",
        "colab_type": "code",
        "outputId": "e0eb01b0-f86b-48ee-af2c-9c3f4669b80d",
        "colab": {
          "base_uri": "https://localhost:8080/",
          "height": 35
        }
      },
      "source": [
        "a = MoreFourCal(4, 2)\n",
        "a.add(), a.mul()"
      ],
      "execution_count": 0,
      "outputs": [
        {
          "output_type": "execute_result",
          "data": {
            "text/plain": [
              "(6, 8)"
            ]
          },
          "metadata": {
            "tags": []
          },
          "execution_count": 64
        }
      ]
    },
    {
      "cell_type": "code",
      "metadata": {
        "id": "vDjDQg50aUdm",
        "colab_type": "code",
        "colab": {}
      },
      "source": [
        "class MoreFourCal(FourCal):\n",
        "    def pow(self):\n",
        "        result = self.first ** self.second\n",
        "        return result"
      ],
      "execution_count": 0,
      "outputs": []
    },
    {
      "cell_type": "code",
      "metadata": {
        "id": "MMne05kfaWdE",
        "colab_type": "code",
        "outputId": "e1f23fe2-578d-4ed7-f2dd-63acd8d95456",
        "colab": {
          "base_uri": "https://localhost:8080/",
          "height": 35
        }
      },
      "source": [
        "a = MoreFourCal(4, 2)\n",
        "a.add(), a.mul()\n",
        "\n"
      ],
      "execution_count": 0,
      "outputs": [
        {
          "output_type": "execute_result",
          "data": {
            "text/plain": [
              "(6, 8)"
            ]
          },
          "metadata": {
            "tags": []
          },
          "execution_count": 67
        }
      ]
    },
    {
      "cell_type": "code",
      "metadata": {
        "id": "RKvZnsazaavl",
        "colab_type": "code",
        "outputId": "d7a843e5-8b0f-4aa1-b743-34c62fedea8d",
        "colab": {
          "base_uri": "https://localhost:8080/",
          "height": 35
        }
      },
      "source": [
        "\n",
        "a.pow()"
      ],
      "execution_count": 0,
      "outputs": [
        {
          "output_type": "execute_result",
          "data": {
            "text/plain": [
              "16"
            ]
          },
          "metadata": {
            "tags": []
          },
          "execution_count": 68
        }
      ]
    },
    {
      "cell_type": "markdown",
      "metadata": {
        "id": "xjuJ3r0ladhL",
        "colab_type": "text"
      },
      "source": [
        "##메서드 오버라이딩"
      ]
    },
    {
      "cell_type": "code",
      "metadata": {
        "id": "DeZT5DnaahP1",
        "colab_type": "code",
        "colab": {}
      },
      "source": [
        "class SafeFourCal(FourCal):\n",
        "    def div(self):\n",
        "        if self.second == 0:  # 나누는 값이 0인 경우 0을 리턴하도록 수정\n",
        "            print(\"분모는 0을 사용할 수 없다.\")\n",
        "            return 0\n",
        "        else:\n",
        "            return self.first / self.second"
      ],
      "execution_count": 0,
      "outputs": []
    },
    {
      "cell_type": "code",
      "metadata": {
        "id": "C0weprPoalxP",
        "colab_type": "code",
        "outputId": "03427452-7f6b-44a4-b4ee-b75527e9f841",
        "colab": {
          "base_uri": "https://localhost:8080/",
          "height": 53
        }
      },
      "source": [
        "a = SafeFourCal(4, 0)\n",
        "a.div()"
      ],
      "execution_count": 0,
      "outputs": [
        {
          "output_type": "stream",
          "text": [
            "분모는 0을 사용할 수 없다.\n"
          ],
          "name": "stdout"
        },
        {
          "output_type": "execute_result",
          "data": {
            "text/plain": [
              "0"
            ]
          },
          "metadata": {
            "tags": []
          },
          "execution_count": 70
        }
      ]
    },
    {
      "cell_type": "markdown",
      "metadata": {
        "id": "xRxwRTdoejvX",
        "colab_type": "text"
      },
      "source": [
        "##클래스변수"
      ]
    },
    {
      "cell_type": "code",
      "metadata": {
        "id": "lgn72zUmelUS",
        "colab_type": "code",
        "colab": {}
      },
      "source": [
        "class Family:\n",
        "    lastname = \"김\"\n",
        "    Family.lastname"
      ],
      "execution_count": 0,
      "outputs": []
    },
    {
      "cell_type": "code",
      "metadata": {
        "id": "ELIfkueOeyla",
        "colab_type": "code",
        "colab": {}
      },
      "source": [
        "a = Family()\n",
        "b = Family()"
      ],
      "execution_count": 0,
      "outputs": []
    },
    {
      "cell_type": "code",
      "metadata": {
        "id": "eHHsyubAe4oT",
        "colab_type": "code",
        "outputId": "4e5fd7c2-540c-4d57-fcfc-c2240463da52",
        "colab": {
          "base_uri": "https://localhost:8080/",
          "height": 71
        }
      },
      "source": [
        "print(a.lastname)\n",
        "print(b.lastname)\n",
        "id(a.lastname), id(b.lastname)"
      ],
      "execution_count": 0,
      "outputs": [
        {
          "output_type": "stream",
          "text": [
            "김\n",
            "김\n"
          ],
          "name": "stdout"
        },
        {
          "output_type": "execute_result",
          "data": {
            "text/plain": [
              "(139901851310480, 139901851310480)"
            ]
          },
          "metadata": {
            "tags": []
          },
          "execution_count": 77
        }
      ]
    },
    {
      "cell_type": "code",
      "metadata": {
        "id": "5K9EQwWAfXCi",
        "colab_type": "code",
        "colab": {}
      },
      "source": [
        "Family.lastname = \"박\""
      ],
      "execution_count": 0,
      "outputs": []
    },
    {
      "cell_type": "code",
      "metadata": {
        "id": "4tWcjkAufYhy",
        "colab_type": "code",
        "outputId": "cf57b874-7212-4511-eb6b-aa48ccf5e970",
        "colab": {
          "base_uri": "https://localhost:8080/",
          "height": 71
        }
      },
      "source": [
        "print(a.lastname)\n",
        "print(b.lastname)\n",
        "id(a.lastname), id(b.lastname), id(Family.lastname)"
      ],
      "execution_count": 0,
      "outputs": [
        {
          "output_type": "stream",
          "text": [
            "박\n",
            "박\n"
          ],
          "name": "stdout"
        },
        {
          "output_type": "execute_result",
          "data": {
            "text/plain": [
              "(139901851308920, 139901851308920, 139901851308920)"
            ]
          },
          "metadata": {
            "tags": []
          },
          "execution_count": 79
        }
      ]
    },
    {
      "cell_type": "code",
      "metadata": {
        "id": "CPAC2bxXfay7",
        "colab_type": "code",
        "outputId": "88c67043-048f-410b-bf40-6ed8ca369282",
        "colab": {
          "base_uri": "https://localhost:8080/",
          "height": 35
        }
      },
      "source": [
        "a.lastname = \"이\"\n",
        "a.lastname, b.lastname, Family.lastname\n",
        "id(a.lastname), id(b.lastname), id(Family.lastname)"
      ],
      "execution_count": 0,
      "outputs": [
        {
          "output_type": "execute_result",
          "data": {
            "text/plain": [
              "(139901842277960, 139901851308920, 139901851308920)"
            ]
          },
          "metadata": {
            "tags": []
          },
          "execution_count": 80
        }
      ]
    }
  ]
}