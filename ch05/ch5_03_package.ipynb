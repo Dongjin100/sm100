{
  "nbformat": 4,
  "nbformat_minor": 0,
  "metadata": {
    "colab": {
      "name": "ch5_03_package.ipynb",
      "provenance": [],
      "include_colab_link": true
    },
    "kernelspec": {
      "name": "python2",
      "display_name": "Python 2"
    }
  },
  "cells": [
    {
      "cell_type": "markdown",
      "metadata": {
        "id": "view-in-github",
        "colab_type": "text"
      },
      "source": [
        "<a href=\"https://colab.research.google.com/github/Dongjin100/sm100/blob/master/ch05/ch5_03_package.ipynb\" target=\"_parent\"><img src=\"https://colab.research.google.com/assets/colab-badge.svg\" alt=\"Open In Colab\"/></a>"
      ]
    },
    {
      "cell_type": "markdown",
      "metadata": {
        "id": "xWwmQ6u9k4KC",
        "colab_type": "text"
      },
      "source": [
        "##패키지"
      ]
    },
    {
      "cell_type": "code",
      "metadata": {
        "id": "_EGSEu1Ok0Qz",
        "colab_type": "code",
        "colab": {}
      },
      "source": [
        "#######################################\n",
        "# 파이썬 모듈들을 모아놓은 폴더로 구성\n",
        "# 유사한 기능을 가진 모듈들을 묶어서 구성\n",
        "#######################################\n",
        "#\n",
        "# 가상의 game 패키지 예\n",
        "\n",
        "#game/\n",
        "#    __init__.py\n",
        " #   sound/\n",
        "  #      __init__.py\n",
        "   #     echo.py\n",
        "    #    wav.py\n",
        "    #graphic/\n",
        "    #    __init__.py\n",
        "    #    screen.py\n",
        "    #    render.py\n",
        "    #play/\n",
        "    #    __init__.py\n",
        "    #    run.py\n",
        "    #    test.py"
      ],
      "execution_count": 0,
      "outputs": []
    },
    {
      "cell_type": "code",
      "metadata": {
        "id": "3N4VwWaOzOsw",
        "colab_type": "code",
        "colab": {}
      },
      "source": [
        "# game 디렉터리가 이 패키지의 루트 디렉터리이고\n",
        "# sound, graphic, play는 서브 디렉터리이다."
      ],
      "execution_count": 0,
      "outputs": []
    },
    {
      "cell_type": "markdown",
      "metadata": {
        "id": "avSyMvlWzPnl",
        "colab_type": "text"
      },
      "source": [
        "##패키지 만들기"
      ]
    },
    {
      "cell_type": "code",
      "metadata": {
        "id": "6Sf070_WzTDA",
        "colab_type": "code",
        "colab": {}
      },
      "source": [
        "\n",
        "# 패키지 기본 구성 요소 준비하기\n",
        "\n",
        "# 1. 루트폴더, 서버폴더 만들기\n",
        "# 2. *.py 소스파일 준비\n",
        "\n",
        "\n",
        "# 1. 루트폴더, 서버폴더 만들기\n",
        "\n",
        "# ./game/__init__.py\n",
        "# ./game/sound/__init__.py\n",
        "# ./game/sound/echo.py\n",
        "# ./game/graphic/__init__.py\n",
        "# ./game/graphic/render.py \n",
        "\n",
        "#\n",
        "# 2. *.py 소스파일 준비\n",
        "\n",
        "#각 디렉터리에 __init__.py 파일을 만들어 놓기만 하고 \n",
        "#내용은 일단 비워 둔다.\n",
        "# echo.py\n",
        "#def echo_test():\n",
        " #   print (\"echo\")\n",
        "\n",
        "# render.py\n",
        "#def render_test():\n",
        "#    print (\"render\")\n",
        "\n",
        "\n",
        "# 현재 폴더 내에 game 폴더가 포함됨.\n"
      ],
      "execution_count": 0,
      "outputs": []
    },
    {
      "cell_type": "markdown",
      "metadata": {
        "id": "HODTx5oGzzeA",
        "colab_type": "text"
      },
      "source": [
        "##패키지 안의 함수 실행하기"
      ]
    },
    {
      "cell_type": "code",
      "metadata": {
        "id": "Yhgea6wQz1k7",
        "colab_type": "code",
        "colab": {}
      },
      "source": [
        "#######################################\n",
        "# package를 import하여 내부 함수 실행\n",
        "#######################################\n",
        "#\n",
        "# 1. echo 모듈을 import하여 실행\n",
        "#import game.sound.echo\n",
        "\n",
        "#game.sound.echo.echo_test()\n",
        "\n",
        "# 2. echo 모듈이 있는 디렉터리까지를 from ... import하여 실행\n",
        "#from game.sound import echo\n",
        "\n",
        "#echo.echo_test()\n",
        "\n",
        "# 3. echo 모듈의 echo_test 함수를 직접 import하여 실행\n",
        "#from game.sound.echo import echo_test\n",
        "\n",
        "#echo_test()\n",
        "\n",
        "\n",
        "#\n",
        "# 다음과 같이 echo_test 함수를 사용하는 것은 불가능\n",
        "#import game\n",
        "\n",
        "#game.sound.echo.echo_test()\n",
        "\n",
        "#import game.sound.echo.echo_test  # ModuleNotFoundError:"
      ],
      "execution_count": 0,
      "outputs": []
    },
    {
      "cell_type": "markdown",
      "metadata": {
        "id": "80OdZF-bz7ON",
        "colab_type": "text"
      },
      "source": [
        "##\"__init__.py 의 용도\""
      ]
    },
    {
      "cell_type": "code",
      "metadata": {
        "id": "5YzbvM4Lz93t",
        "colab_type": "code",
        "colab": {}
      },
      "source": [
        "\n",
        "# __init__.py 파일은 해당 디렉터리가 패키지의 일부임을 알려주는 역할\n",
        "# 만약 game, sound, graphic 등 패키지에 포함된 디렉터리에\n",
        "# __init__.py 파일이 없다면 패키지로 인식되지 않는다.\n",
        "\n",
        "#\n",
        "#from game.sound import \n",
        "\n",
        "#echo.echo_test()\n",
        "\n"
      ],
      "execution_count": 0,
      "outputs": []
    },
    {
      "cell_type": "markdown",
      "metadata": {
        "id": "pC0OTHfc0Gad",
        "colab_type": "text"
      },
      "source": [
        "##relative 패키지"
      ]
    },
    {
      "cell_type": "code",
      "metadata": {
        "id": "Q27UTKFb0G3l",
        "colab_type": "code",
        "colab": {}
      },
      "source": [
        "\n",
        "\n",
        "# 만약 graphic 디렉터리의 render.py 모듈이\n",
        "# sound 디렉터리의 echo.py 모듈을 사용\n",
        "#\n",
        "# render.py를 수정\n",
        "\n",
        "#from game.graphic.render import render_test\n",
        "\n",
        "#render_test()\n",
        "\n",
        "# .. : parent folder\n",
        "#  . : current folder\n",
        "\n",
        "# render.py\n",
        "#from ..sound.echo import echo_test\n",
        "\n",
        "#def render_test():\n",
        "#    print (\"render\")\n",
        "#echo_test()\n",
        "\n",
        "\n",
        "\n",
        "# render.py\n",
        "#from game.sound.echo import echo_test\n",
        "#def render_test():\n",
        "#    print (\"render\")\n",
        "#    echo_test()"
      ],
      "execution_count": 0,
      "outputs": []
    }
  ]
}