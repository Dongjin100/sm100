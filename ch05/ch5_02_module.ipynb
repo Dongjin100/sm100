{
  "nbformat": 4,
  "nbformat_minor": 0,
  "metadata": {
    "colab": {
      "name": "ch5_02_module.ipynb",
      "provenance": [],
      "include_colab_link": true
    },
    "kernelspec": {
      "name": "python2",
      "display_name": "Python 2"
    }
  },
  "cells": [
    {
      "cell_type": "markdown",
      "metadata": {
        "id": "view-in-github",
        "colab_type": "text"
      },
      "source": [
        "<a href=\"https://colab.research.google.com/github/Dongjin100/sm100/blob/master/ch05/ch5_02_module.ipynb\" target=\"_parent\"><img src=\"https://colab.research.google.com/assets/colab-badge.svg\" alt=\"Open In Colab\"/></a>"
      ]
    },
    {
      "cell_type": "markdown",
      "metadata": {
        "id": "0wIW_gfafqRK",
        "colab_type": "text"
      },
      "source": [
        "##모듈"
      ]
    },
    {
      "cell_type": "code",
      "metadata": {
        "id": "3SEJ0QspxvIt",
        "colab_type": "code",
        "colab": {}
      },
      "source": [
        "# 모듈이란 함수나 변수 또는 클래스를 모아 놓은 파이썬 파일"
      ],
      "execution_count": 0,
      "outputs": []
    },
    {
      "cell_type": "markdown",
      "metadata": {
        "id": "bIRJz8Okxw-T",
        "colab_type": "text"
      },
      "source": [
        "##모듈 만들기"
      ]
    },
    {
      "cell_type": "code",
      "metadata": {
        "id": "ejAPVIZmfn4x",
        "colab_type": "code",
        "colab": {}
      },
      "source": [
        "# mod1.py를 현재 폴더에 저장\n",
        "#mod1.py\n",
        "#def add(a, b):\n",
        " #   return a + b\n",
        "\n",
        "#def sub(a, b): \n",
        " #   return a-b"
      ],
      "execution_count": 0,
      "outputs": []
    },
    {
      "cell_type": "markdown",
      "metadata": {
        "id": "1w1smw6jx5ut",
        "colab_type": "text"
      },
      "source": [
        "##\"모듈 불러오기\""
      ]
    },
    {
      "cell_type": "code",
      "metadata": {
        "id": "ADOTQwDThmGC",
        "colab_type": "code",
        "colab": {}
      },
      "source": [
        "\n",
        "# import 모듈명\n",
        "# import는 이미 만들어 놓은 파이썬 모듈을 사용할 수 있게 해주는 명령어\n",
        "\n",
        "# \n",
        "# 현재 폴더에 있는 모듈, mod1.py를 연결하기.\n",
        "\n",
        "#import mod1\n",
        "#print(mod1.add(3, 4))\n",
        "\n",
        "#print(mod1.sub(7, 2))\n",
        "\n",
        "\n",
        "# 모듈 내부 함수 이용\n",
        "# from 모듈이름 import 모듈함수\n",
        "\n",
        "\n",
        "#from mod1 import add\n",
        "#add(3, 4)\n",
        "\n",
        "# from 모듈이름 import *\n",
        "# from mod1 import add, sub\n",
        "#from mod1 import *\n",
        "\n",
        "#add(3, 4)\n",
        "#sub(7, 3)"
      ],
      "execution_count": 0,
      "outputs": []
    },
    {
      "cell_type": "markdown",
      "metadata": {
        "id": "iJlh8pEsyOup",
        "colab_type": "text"
      },
      "source": [
        "##\"if __name__ == \"__main__\": 의 의미\""
      ]
    },
    {
      "cell_type": "code",
      "metadata": {
        "id": "QQu7P0G8ySqP",
        "colab_type": "code",
        "colab": {}
      },
      "source": [
        "\n",
        "# import 모듈명\n",
        "# import는 이미 만들어 놓은 파이썬 모듈을 \n",
        "# 사용할 수 있게 해주는 명령어\n",
        "\n",
        "\n",
        "# mod1.py 파일을 다음과 같이 변경해 보자.\n",
        "'''\n",
        "# mod1.py \n",
        "def add(a, b): \n",
        "    return a+b\n",
        "\n",
        "def sub(a, b): \n",
        "    return a-b\n",
        "\n",
        "print(add(1, 4))\n",
        "print(sub(4, 2))"
      ],
      "execution_count": 0,
      "outputs": []
    },
    {
      "cell_type": "code",
      "metadata": {
        "id": "ZiYSNHzSyYIB",
        "colab_type": "code",
        "colab": {}
      },
      "source": [
        "#import mod1\n",
        "# 5\n",
        "# 2\n",
        "#print(__name__)\n"
      ],
      "execution_count": 0,
      "outputs": []
    },
    {
      "cell_type": "code",
      "metadata": {
        "id": "8F3ofvcfyhyh",
        "colab_type": "code",
        "colab": {}
      },
      "source": [
        "##import mod2\n",
        "##print(__name__)\n",
        "# if __name__ == \"__main__\"을 사용하면 C:\\doit>python mod1.py처럼 \n",
        "# 직접 이 파일을 실행했을 때는 __name__ == \"__main__\"이 참이 되어 \n",
        "# if문 다음 문장이 수행된다. \n",
        "# 반대로 대화형 인터프리터나 다른 파일에서 이 모듈을 불러서 사용할 때는 \n",
        "# __name__ == \"__main__\"이 거짓이 되어 if문 다음 문장이 수행되지 않는다.\n",
        "#"
      ],
      "execution_count": 0,
      "outputs": []
    },
    {
      "cell_type": "markdown",
      "metadata": {
        "id": "EGX0L_tiylmR",
        "colab_type": "text"
      },
      "source": [
        "##클래스나 변수 등을 포함한 모듈"
      ]
    },
    {
      "cell_type": "code",
      "metadata": {
        "id": "Vi9dsb9VyncB",
        "colab_type": "code",
        "colab": {}
      },
      "source": [
        "# mod3.py \n",
        "##PI = 3.141592\n",
        "\n",
        "##class Math: \n",
        "  ##  def solv(self, r): \n",
        "    ##    return PI * (r ** 2) \n",
        "\n",
        "#def add(a, b): \n",
        "##    return a+b \n",
        "'''"
      ],
      "execution_count": 0,
      "outputs": []
    },
    {
      "cell_type": "code",
      "metadata": {
        "id": "0CK0WIHIyskJ",
        "colab_type": "code",
        "colab": {}
      },
      "source": [
        "##import mod3\n",
        "\n",
        "##print(mod3.PI)\n",
        "\n",
        "##a = mod3.Math()\n",
        "##print(a.solv(2))\n",
        "\n",
        "##print(mod3.add(mod3.PI, 4.4))"
      ],
      "execution_count": 0,
      "outputs": []
    },
    {
      "cell_type": "markdown",
      "metadata": {
        "id": "5bpG1jCLyxBx",
        "colab_type": "text"
      },
      "source": [
        "##다른 파일에서 모듈 불러오기"
      ]
    },
    {
      "cell_type": "code",
      "metadata": {
        "id": "2DTFt2AMyzDA",
        "colab_type": "code",
        "colab": {
          "base_uri": "https://localhost:8080/",
          "height": 34
        },
        "outputId": "ffc96b2a-103f-4307-fce4-faa9fcb7cc5e"
      },
      "source": [
        "\n",
        "# 다른 파이썬 파일에서 이전에 만들어 놓은 \n",
        "# 모듈을 불러와서 사용하는 방법\n",
        "\n",
        "# \n",
        "'''\n",
        "# modtest.py\n",
        "import mod2\n",
        "result = mod2.add(3, 4)\n",
        "print(result)\n",
        "'''\n",
        "\n",
        "# cmd에서 실행하시오.\n",
        "# python modtest.py\n",
        "\n",
        "# 참고: 현재 폴더로 경로 설정 (path)\n",
        "# import sys\n",
        "# sys.path.append(\"current_path\")\n",
        "# sys.path\n"
      ],
      "execution_count": 10,
      "outputs": [
        {
          "output_type": "execute_result",
          "data": {
            "text/plain": [
              "'\\n# modtest.py\\nimport mod2\\nresult = mod2.add(3, 4)\\nprint(result)\\n'"
            ]
          },
          "metadata": {
            "tags": []
          },
          "execution_count": 10
        }
      ]
    }
  ]
}